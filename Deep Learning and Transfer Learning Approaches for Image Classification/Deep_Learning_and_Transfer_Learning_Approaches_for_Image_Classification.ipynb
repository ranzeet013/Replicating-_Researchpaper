{
  "nbformat": 4,
  "nbformat_minor": 0,
  "metadata": {
    "colab": {
      "provenance": [],
      "gpuType": "T4"
    },
    "kernelspec": {
      "name": "python3",
      "display_name": "Python 3"
    },
    "language_info": {
      "name": "python"
    },
    "accelerator": "GPU"
  },
  "cells": [
    {
      "cell_type": "code",
      "execution_count": 1,
      "metadata": {
        "colab": {
          "base_uri": "https://localhost:8080/"
        },
        "id": "rb3VF6ZaRnBU",
        "outputId": "c2954257-a7c2-445c-f4a8-4bfbbcdecd6a"
      },
      "outputs": [
        {
          "output_type": "stream",
          "name": "stdout",
          "text": [
            "Requirement already satisfied: torch in /usr/local/lib/python3.10/dist-packages (2.4.0+cu121)\n",
            "Collecting datasets\n",
            "  Downloading datasets-2.21.0-py3-none-any.whl.metadata (21 kB)\n",
            "Requirement already satisfied: torchvision in /usr/local/lib/python3.10/dist-packages (0.19.0+cu121)\n",
            "Requirement already satisfied: filelock in /usr/local/lib/python3.10/dist-packages (from torch) (3.15.4)\n",
            "Requirement already satisfied: typing-extensions>=4.8.0 in /usr/local/lib/python3.10/dist-packages (from torch) (4.12.2)\n",
            "Requirement already satisfied: sympy in /usr/local/lib/python3.10/dist-packages (from torch) (1.13.2)\n",
            "Requirement already satisfied: networkx in /usr/local/lib/python3.10/dist-packages (from torch) (3.3)\n",
            "Requirement already satisfied: jinja2 in /usr/local/lib/python3.10/dist-packages (from torch) (3.1.4)\n",
            "Requirement already satisfied: fsspec in /usr/local/lib/python3.10/dist-packages (from torch) (2024.6.1)\n",
            "Requirement already satisfied: numpy>=1.17 in /usr/local/lib/python3.10/dist-packages (from datasets) (1.26.4)\n",
            "Collecting pyarrow>=15.0.0 (from datasets)\n",
            "  Downloading pyarrow-17.0.0-cp310-cp310-manylinux_2_28_x86_64.whl.metadata (3.3 kB)\n",
            "Collecting dill<0.3.9,>=0.3.0 (from datasets)\n",
            "  Downloading dill-0.3.8-py3-none-any.whl.metadata (10 kB)\n",
            "Requirement already satisfied: pandas in /usr/local/lib/python3.10/dist-packages (from datasets) (2.1.4)\n",
            "Requirement already satisfied: requests>=2.32.2 in /usr/local/lib/python3.10/dist-packages (from datasets) (2.32.3)\n",
            "Requirement already satisfied: tqdm>=4.66.3 in /usr/local/lib/python3.10/dist-packages (from datasets) (4.66.5)\n",
            "Collecting xxhash (from datasets)\n",
            "  Downloading xxhash-3.5.0-cp310-cp310-manylinux_2_17_x86_64.manylinux2014_x86_64.whl.metadata (12 kB)\n",
            "Collecting multiprocess (from datasets)\n",
            "  Downloading multiprocess-0.70.16-py310-none-any.whl.metadata (7.2 kB)\n",
            "Requirement already satisfied: aiohttp in /usr/local/lib/python3.10/dist-packages (from datasets) (3.10.5)\n",
            "Requirement already satisfied: huggingface-hub>=0.21.2 in /usr/local/lib/python3.10/dist-packages (from datasets) (0.24.6)\n",
            "Requirement already satisfied: packaging in /usr/local/lib/python3.10/dist-packages (from datasets) (24.1)\n",
            "Requirement already satisfied: pyyaml>=5.1 in /usr/local/lib/python3.10/dist-packages (from datasets) (6.0.2)\n",
            "Requirement already satisfied: pillow!=8.3.*,>=5.3.0 in /usr/local/lib/python3.10/dist-packages (from torchvision) (9.4.0)\n",
            "Requirement already satisfied: aiohappyeyeballs>=2.3.0 in /usr/local/lib/python3.10/dist-packages (from aiohttp->datasets) (2.4.0)\n",
            "Requirement already satisfied: aiosignal>=1.1.2 in /usr/local/lib/python3.10/dist-packages (from aiohttp->datasets) (1.3.1)\n",
            "Requirement already satisfied: attrs>=17.3.0 in /usr/local/lib/python3.10/dist-packages (from aiohttp->datasets) (24.2.0)\n",
            "Requirement already satisfied: frozenlist>=1.1.1 in /usr/local/lib/python3.10/dist-packages (from aiohttp->datasets) (1.4.1)\n",
            "Requirement already satisfied: multidict<7.0,>=4.5 in /usr/local/lib/python3.10/dist-packages (from aiohttp->datasets) (6.0.5)\n",
            "Requirement already satisfied: yarl<2.0,>=1.0 in /usr/local/lib/python3.10/dist-packages (from aiohttp->datasets) (1.9.4)\n",
            "Requirement already satisfied: async-timeout<5.0,>=4.0 in /usr/local/lib/python3.10/dist-packages (from aiohttp->datasets) (4.0.3)\n",
            "Requirement already satisfied: charset-normalizer<4,>=2 in /usr/local/lib/python3.10/dist-packages (from requests>=2.32.2->datasets) (3.3.2)\n",
            "Requirement already satisfied: idna<4,>=2.5 in /usr/local/lib/python3.10/dist-packages (from requests>=2.32.2->datasets) (3.8)\n",
            "Requirement already satisfied: urllib3<3,>=1.21.1 in /usr/local/lib/python3.10/dist-packages (from requests>=2.32.2->datasets) (2.0.7)\n",
            "Requirement already satisfied: certifi>=2017.4.17 in /usr/local/lib/python3.10/dist-packages (from requests>=2.32.2->datasets) (2024.8.30)\n",
            "Requirement already satisfied: MarkupSafe>=2.0 in /usr/local/lib/python3.10/dist-packages (from jinja2->torch) (2.1.5)\n",
            "Requirement already satisfied: python-dateutil>=2.8.2 in /usr/local/lib/python3.10/dist-packages (from pandas->datasets) (2.8.2)\n",
            "Requirement already satisfied: pytz>=2020.1 in /usr/local/lib/python3.10/dist-packages (from pandas->datasets) (2024.1)\n",
            "Requirement already satisfied: tzdata>=2022.1 in /usr/local/lib/python3.10/dist-packages (from pandas->datasets) (2024.1)\n",
            "Requirement already satisfied: mpmath<1.4,>=1.1.0 in /usr/local/lib/python3.10/dist-packages (from sympy->torch) (1.3.0)\n",
            "Requirement already satisfied: six>=1.5 in /usr/local/lib/python3.10/dist-packages (from python-dateutil>=2.8.2->pandas->datasets) (1.16.0)\n",
            "Downloading datasets-2.21.0-py3-none-any.whl (527 kB)\n",
            "\u001b[2K   \u001b[90m━━━━━━━━━━━━━━━━━━━━━━━━━━━━━━━━━━━━━━━━\u001b[0m \u001b[32m527.3/527.3 kB\u001b[0m \u001b[31m20.2 MB/s\u001b[0m eta \u001b[36m0:00:00\u001b[0m\n",
            "\u001b[?25hDownloading dill-0.3.8-py3-none-any.whl (116 kB)\n",
            "\u001b[2K   \u001b[90m━━━━━━━━━━━━━━━━━━━━━━━━━━━━━━━━━━━━━━━━\u001b[0m \u001b[32m116.3/116.3 kB\u001b[0m \u001b[31m12.3 MB/s\u001b[0m eta \u001b[36m0:00:00\u001b[0m\n",
            "\u001b[?25hDownloading pyarrow-17.0.0-cp310-cp310-manylinux_2_28_x86_64.whl (39.9 MB)\n",
            "\u001b[2K   \u001b[90m━━━━━━━━━━━━━━━━━━━━━━━━━━━━━━━━━━━━━━━━\u001b[0m \u001b[32m39.9/39.9 MB\u001b[0m \u001b[31m21.0 MB/s\u001b[0m eta \u001b[36m0:00:00\u001b[0m\n",
            "\u001b[?25hDownloading multiprocess-0.70.16-py310-none-any.whl (134 kB)\n",
            "\u001b[2K   \u001b[90m━━━━━━━━━━━━━━━━━━━━━━━━━━━━━━━━━━━━━━━━\u001b[0m \u001b[32m134.8/134.8 kB\u001b[0m \u001b[31m14.1 MB/s\u001b[0m eta \u001b[36m0:00:00\u001b[0m\n",
            "\u001b[?25hDownloading xxhash-3.5.0-cp310-cp310-manylinux_2_17_x86_64.manylinux2014_x86_64.whl (194 kB)\n",
            "\u001b[2K   \u001b[90m━━━━━━━━━━━━━━━━━━━━━━━━━━━━━━━━━━━━━━━━\u001b[0m \u001b[32m194.1/194.1 kB\u001b[0m \u001b[31m18.9 MB/s\u001b[0m eta \u001b[36m0:00:00\u001b[0m\n",
            "\u001b[?25hInstalling collected packages: xxhash, pyarrow, dill, multiprocess, datasets\n",
            "  Attempting uninstall: pyarrow\n",
            "    Found existing installation: pyarrow 14.0.2\n",
            "    Uninstalling pyarrow-14.0.2:\n",
            "      Successfully uninstalled pyarrow-14.0.2\n",
            "\u001b[31mERROR: pip's dependency resolver does not currently take into account all the packages that are installed. This behaviour is the source of the following dependency conflicts.\n",
            "cudf-cu12 24.4.1 requires pyarrow<15.0.0a0,>=14.0.1, but you have pyarrow 17.0.0 which is incompatible.\n",
            "ibis-framework 8.0.0 requires pyarrow<16,>=2, but you have pyarrow 17.0.0 which is incompatible.\u001b[0m\u001b[31m\n",
            "\u001b[0mSuccessfully installed datasets-2.21.0 dill-0.3.8 multiprocess-0.70.16 pyarrow-17.0.0 xxhash-3.5.0\n"
          ]
        }
      ],
      "source": [
        "!pip install torch datasets torchvision"
      ]
    },
    {
      "cell_type": "code",
      "source": [
        "import torch\n",
        "import torch.nn as nn\n",
        "import torch.optim as optim\n",
        "from torch.utils.data import DataLoader\n",
        "from torchvision import datasets, models, transforms\n",
        "import numpy as np\n",
        "import matplotlib.pyplot as plt\n",
        "from torch.optim import lr_scheduler\n",
        "import copy\n",
        "\n",
        "# Set device to GPU if available, else use CPU\n",
        "device = torch.device(\"cuda:0\" if torch.cuda.is_available() else \"cpu\")\n",
        "print(f\"Using device: {device}\")\n",
        "\n",
        "# -------------------------------------------------------------\n",
        "# This script demonstrates the basic setup for training a model\n",
        "# on an image classification task using PyTorch and transfer\n",
        "# learning techniques. It uses pre-trained models from the\n",
        "# torchvision library (e.g., ResNet) and fine-tunes them for\n",
        "# the specific dataset.\n",
        "\n",
        "# -------------------------------------------------------------\n",
        "# Libraries used:\n",
        "# - torch: Provides deep learning framework for defining models,\n",
        "#   performing forward and backward propagation, and optimizing weights.\n",
        "# - torchvision: Contains datasets, models, and image transformations\n",
        "#   utilities.\n",
        "# - matplotlib: Used for visualizing training results such as accuracy\n",
        "#   and loss.\n",
        "# - numpy: Handles array operations.\n",
        "# -------------------------------------------------------------\n",
        "\n",
        "\"\"\"\n",
        "This section checks whether a CUDA-enabled GPU is available.\n",
        "If so, it sets the device to 'cuda', otherwise it defaults to 'cpu'.\n",
        "\n",
        "torch.cuda.is_available():\n",
        "    - Returns True if GPU with CUDA support is available.\n",
        "torch.device():\n",
        "    - Creates a device object to specify whether tensors and models\n",
        "      should be run on a GPU ('cuda') or CPU ('cpu').\n",
        "\"\"\""
      ],
      "metadata": {
        "colab": {
          "base_uri": "https://localhost:8080/",
          "height": 73
        },
        "id": "H63L7ZnwSMv5",
        "outputId": "b1251307-0f68-4033-d1ce-b5bcf673ff74"
      },
      "execution_count": 2,
      "outputs": [
        {
          "output_type": "stream",
          "name": "stdout",
          "text": [
            "Using device: cuda:0\n"
          ]
        },
        {
          "output_type": "execute_result",
          "data": {
            "text/plain": [
              "\"\\nThis section checks whether a CUDA-enabled GPU is available.\\nIf so, it sets the device to 'cuda', otherwise it defaults to 'cpu'.\\n\\ntorch.cuda.is_available():\\n    - Returns True if GPU with CUDA support is available.\\ntorch.device():\\n    - Creates a device object to specify whether tensors and models\\n      should be run on a GPU ('cuda') or CPU ('cpu').\\n\""
            ],
            "application/vnd.google.colaboratory.intrinsic+json": {
              "type": "string"
            }
          },
          "metadata": {},
          "execution_count": 2
        }
      ]
    },
    {
      "cell_type": "code",
      "source": [
        "# ---------------- DATA PREPROCESSING AND LOADING ----------------\n",
        "\"\"\"\n",
        "In this section, we will prepare and load the MNIST dataset.\n",
        "The MNIST dataset consists of 28x28 grayscale images of handwritten digits (0-9).\n",
        "Since ResNet models are designed to work with 224x224 images, we need to resize\n",
        "each MNIST image to match this input size.\n",
        "\n",
        "We will perform three main steps:\n",
        "1. Resize: Change the size of the image from 28x28 to 224x224.\n",
        "2. ToTensor: Convert the image from its original format to a PyTorch tensor (multi-dimensional array).\n",
        "3. Normalize: Adjust the pixel values so they range between -1 and 1 to stabilize training.\n",
        "\n",
        "Next, we download and load the MNIST dataset.\n",
        "- train_dataset: This is the dataset used to train the model. It consists of 60,000 images.\n",
        "- val_dataset: This is the validation dataset, which has 10,000 images that will be used to test how well the model performs after training.\n",
        "\n",
        "root='./data':\n",
        "    - Specifies where the dataset should be stored on the computer. Here, the 'data' folder is used.\n",
        "train=True / train=False:\n",
        "    - Indicates whether the dataset is used for training (True) or validation/testing (False).\n",
        "download=True:\n",
        "    - Downloads the dataset if it is not already available.\n",
        "transform=transform:\n",
        "    - Applies the transformations (resize, convert to tensor, normalize) to the dataset.\n",
        "\n",
        "\"\"\"\n",
        "\n",
        "# Modify the transformation to convert 1-channel grayscale images into 3-channel RGB images\n",
        "transform = transforms.Compose([\n",
        "    transforms.Resize(224),  # Resize images to 224x224 for ResNet\n",
        "    transforms.Grayscale(num_output_channels=3),  # Convert 1-channel grayscale to 3-channel RGB\n",
        "    transforms.ToTensor(),  # Convert images to PyTorch tensors\n",
        "    transforms.Normalize([0.5, 0.5, 0.5], [0.5, 0.5, 0.5])  # Normalize for 3 channels\n",
        "])\n",
        "\n",
        "# Download and load the training and validation datasets again with the updated transformation\n",
        "train_dataset = datasets.MNIST(root='./data', train=True, download=True, transform=transform)\n",
        "val_dataset = datasets.MNIST(root='./data', train=False, download=True, transform=transform)\n"
      ],
      "metadata": {
        "colab": {
          "base_uri": "https://localhost:8080/"
        },
        "id": "V_K4q3jPS2Hu",
        "outputId": "0107b1be-ee60-444d-9eda-637353b8e896"
      },
      "execution_count": 3,
      "outputs": [
        {
          "output_type": "stream",
          "name": "stdout",
          "text": [
            "Downloading http://yann.lecun.com/exdb/mnist/train-images-idx3-ubyte.gz\n",
            "Failed to download (trying next):\n",
            "HTTP Error 403: Forbidden\n",
            "\n",
            "Downloading https://ossci-datasets.s3.amazonaws.com/mnist/train-images-idx3-ubyte.gz\n",
            "Downloading https://ossci-datasets.s3.amazonaws.com/mnist/train-images-idx3-ubyte.gz to ./data/MNIST/raw/train-images-idx3-ubyte.gz\n"
          ]
        },
        {
          "output_type": "stream",
          "name": "stderr",
          "text": [
            "100%|██████████| 9912422/9912422 [00:00<00:00, 10583908.98it/s]\n"
          ]
        },
        {
          "output_type": "stream",
          "name": "stdout",
          "text": [
            "Extracting ./data/MNIST/raw/train-images-idx3-ubyte.gz to ./data/MNIST/raw\n",
            "\n",
            "Downloading http://yann.lecun.com/exdb/mnist/train-labels-idx1-ubyte.gz\n",
            "Failed to download (trying next):\n",
            "HTTP Error 403: Forbidden\n",
            "\n",
            "Downloading https://ossci-datasets.s3.amazonaws.com/mnist/train-labels-idx1-ubyte.gz\n",
            "Downloading https://ossci-datasets.s3.amazonaws.com/mnist/train-labels-idx1-ubyte.gz to ./data/MNIST/raw/train-labels-idx1-ubyte.gz\n"
          ]
        },
        {
          "output_type": "stream",
          "name": "stderr",
          "text": [
            "100%|██████████| 28881/28881 [00:00<00:00, 350708.29it/s]\n"
          ]
        },
        {
          "output_type": "stream",
          "name": "stdout",
          "text": [
            "Extracting ./data/MNIST/raw/train-labels-idx1-ubyte.gz to ./data/MNIST/raw\n",
            "\n",
            "Downloading http://yann.lecun.com/exdb/mnist/t10k-images-idx3-ubyte.gz\n",
            "Failed to download (trying next):\n",
            "HTTP Error 403: Forbidden\n",
            "\n",
            "Downloading https://ossci-datasets.s3.amazonaws.com/mnist/t10k-images-idx3-ubyte.gz\n",
            "Downloading https://ossci-datasets.s3.amazonaws.com/mnist/t10k-images-idx3-ubyte.gz to ./data/MNIST/raw/t10k-images-idx3-ubyte.gz\n"
          ]
        },
        {
          "output_type": "stream",
          "name": "stderr",
          "text": [
            "100%|██████████| 1648877/1648877 [00:00<00:00, 3232623.74it/s]\n"
          ]
        },
        {
          "output_type": "stream",
          "name": "stdout",
          "text": [
            "Extracting ./data/MNIST/raw/t10k-images-idx3-ubyte.gz to ./data/MNIST/raw\n",
            "\n",
            "Downloading http://yann.lecun.com/exdb/mnist/t10k-labels-idx1-ubyte.gz\n",
            "Failed to download (trying next):\n",
            "HTTP Error 403: Forbidden\n",
            "\n",
            "Downloading https://ossci-datasets.s3.amazonaws.com/mnist/t10k-labels-idx1-ubyte.gz\n",
            "Downloading https://ossci-datasets.s3.amazonaws.com/mnist/t10k-labels-idx1-ubyte.gz to ./data/MNIST/raw/t10k-labels-idx1-ubyte.gz\n"
          ]
        },
        {
          "output_type": "stream",
          "name": "stderr",
          "text": [
            "100%|██████████| 4542/4542 [00:00<00:00, 4343485.81it/s]"
          ]
        },
        {
          "output_type": "stream",
          "name": "stdout",
          "text": [
            "Extracting ./data/MNIST/raw/t10k-labels-idx1-ubyte.gz to ./data/MNIST/raw\n",
            "\n"
          ]
        },
        {
          "output_type": "stream",
          "name": "stderr",
          "text": [
            "\n"
          ]
        }
      ]
    },
    {
      "cell_type": "code",
      "source": [
        "\"\"\"\n",
        "A DataLoader is used to load the dataset in small batches during training and validation.\n",
        "- train_loader: Loads the training data in batches of 32 images, shuffling the data to ensure the model learns from a variety of examples in each batch.\n",
        "- val_loader: Loads the validation data in batches of 32 images, but does not shuffle because the order of images doesn't matter for validation.\n",
        "\n",
        "batch_size=32:\n",
        "    - Specifies the number of images processed in each batch.\n",
        "shuffle=True / False:\n",
        "    - shuffle=True randomly shuffles the training data so that the model doesn't see images in the same order each time.\n",
        "    - shuffle=False keeps the order unchanged for the validation data.\n",
        "\"\"\"\n",
        "\n",
        "# Create DataLoader for the training dataset\n",
        "train_loader = DataLoader(train_dataset, batch_size=32, shuffle=True)\n",
        "\n",
        "# Create DataLoader for the validation dataset\n",
        "val_loader = DataLoader(val_dataset, batch_size=32, shuffle=False)"
      ],
      "metadata": {
        "id": "syLBg-zETPwA"
      },
      "execution_count": 4,
      "outputs": []
    },
    {
      "cell_type": "code",
      "source": [
        "\"\"\"\n",
        "The dataset_sizes dictionary stores the number of images in the training and validation datasets.\n",
        "- train: 60,000 images for training.\n",
        "- val: 10,000 images for validation.\n",
        "These values are useful for tracking the model's progress during training.\n",
        "\n",
        "The class_names list contains the names of the classes (digits 0-9). Each class represents a digit label in the MNIST dataset.\n",
        "\"\"\"\n",
        "\n",
        "# Sizes of the datasets\n",
        "dataset_sizes = {'train': len(train_dataset), 'val': len(val_dataset)}\n",
        "\n",
        "# Class names: digits 0 to 9\n",
        "class_names = [str(i) for i in range(10)]"
      ],
      "metadata": {
        "id": "lMLjH5MsTVJd"
      },
      "execution_count": 5,
      "outputs": []
    },
    {
      "cell_type": "code",
      "source": [
        "\"\"\"\n",
        "The dataloaders dictionary holds the train and validation DataLoader objects.\n",
        "This allows easy access to both loaders when training and validating the model.\n",
        "\"\"\"\n",
        "\n",
        "# Dataloader dictionary containing train and validation DataLoader\n",
        "dataloaders = {'train': train_loader, 'val': val_loader}"
      ],
      "metadata": {
        "id": "r2DQ6wUwTX5l"
      },
      "execution_count": 6,
      "outputs": []
    },
    {
      "cell_type": "markdown",
      "source": [
        "**Data Transformations:** Before feeding the images into the model, they must be resized to fit the model's expected input size (224x224 pixels). The images are also normalized so that the pixel values range between -1 and 1, which helps the model learn more effectively.\n",
        "\n",
        "**Data Loading:** The data is split into two parts:\n",
        "\n",
        "**Training Dataset:** This is the data the model will use to learn patterns.\n",
        "\n",
        "**Validation Dataset:** This is separate data used to evaluate how well the model is performing without affecting the training process.\n",
        "Batches: Instead of feeding all the images at once, they are processed in smaller groups (32 images per batch), which is more memory efficient."
      ],
      "metadata": {
        "id": "9cAhVI28kmm-"
      }
    },
    {
      "cell_type": "code",
      "source": [
        "\n",
        "\"\"\"\n",
        "In this section we are going to load a pre-trained ResNet50 model.\n",
        "- ResNet50 is a powerful convolutional neural network (CNN) architecture that has already been trained on a large dataset (ImageNet).\n",
        "- By using a pre-trained model, we leverage the knowledge it has already learned and fine-tune it for our specific task (classifying MNIST digits).\n",
        "\n",
        "We will modify the last layer of ResNet50 to match the number of classes in MNIST (10 classes, one for each digit: 0-9).\n",
        "\"\"\"\n",
        "\n",
        "# Load a pre-trained ResNet50 model from torchvision\n",
        "# pretrained=True: This loads the model weights pre-trained on ImageNet dataset\n",
        "model_ft = models.resnet50(pretrained=True)\n",
        "\n",
        "\"\"\"\n",
        "The pre-trained ResNet50 model was originally designed to classify 1,000 different objects in the ImageNet dataset.\n",
        "Since the MNIST dataset only has 10 different classes (digits 0-9), we need to replace the final layer (fully connected layer) of the network.\n",
        "\n",
        "- The fully connected layer (fc) is responsible for classifying the images into specific categories.\n",
        "- To replace it, we first need to find out how many input features this layer expects, which is given by 'model_ft.fc.in_features'.\n",
        "- We then create a new fully connected layer that outputs 10 classes, matching MNIST's 10 digits.\n",
        "\"\"\"\n",
        "\n",
        "# Get the number of input features for the final fully connected layer\n",
        "num_ftrs = model_ft.fc.in_features\n",
        "\n",
        "# Replace the final fully connected layer with a new one that has 10 output classes (for digits 0-9)\n",
        "model_ft.fc = nn.Linear(num_ftrs, 10)  # nn.Linear creates a fully connected layer\n",
        "\n",
        "\"\"\"\n",
        "Finally, we move the model to the selected device (either GPU if available, or CPU).\n",
        "This ensures that the model computations happen on the right hardware.\n",
        "\"\"\"\n",
        "\n",
        "model_ft = model_ft.to(device)\n"
      ],
      "metadata": {
        "colab": {
          "base_uri": "https://localhost:8080/"
        },
        "id": "kDVXR2NWTanX",
        "outputId": "21b0d1a2-cb4a-428f-86b7-2dc325da37f0"
      },
      "execution_count": 7,
      "outputs": [
        {
          "output_type": "stream",
          "name": "stderr",
          "text": [
            "/usr/local/lib/python3.10/dist-packages/torchvision/models/_utils.py:208: UserWarning: The parameter 'pretrained' is deprecated since 0.13 and may be removed in the future, please use 'weights' instead.\n",
            "  warnings.warn(\n",
            "/usr/local/lib/python3.10/dist-packages/torchvision/models/_utils.py:223: UserWarning: Arguments other than a weight enum or `None` for 'weights' are deprecated since 0.13 and may be removed in the future. The current behavior is equivalent to passing `weights=ResNet50_Weights.IMAGENET1K_V1`. You can also use `weights=ResNet50_Weights.DEFAULT` to get the most up-to-date weights.\n",
            "  warnings.warn(msg)\n",
            "Downloading: \"https://download.pytorch.org/models/resnet50-0676ba61.pth\" to /root/.cache/torch/hub/checkpoints/resnet50-0676ba61.pth\n",
            "100%|██████████| 97.8M/97.8M [00:00<00:00, 134MB/s]\n"
          ]
        }
      ]
    },
    {
      "cell_type": "markdown",
      "source": [
        "**Pre-trained Models:** A pre-trained model (ResNet50 in this case) has already been trained on a large, diverse dataset (ImageNet), so it knows how to identify various patterns in images. Instead of starting from scratch, we \"fine-tune\" the model for our specific task (classifying MNIST digits).\n",
        "\n",
        "**Fully Connected Layer**: This is the final layer in the model, where all the learned information is condensed to make a decision (in this case, to predict one of the 10 possible digits).\n",
        "\n",
        "**Modifying for MNIST**: Since the pre-trained model was designed for 1,000 classes, we need to modify the last layer to match the 10 classes in the MNIST dataset."
      ],
      "metadata": {
        "id": "jM4Kw-lAke2z"
      }
    },
    {
      "cell_type": "code",
      "source": [
        "\n",
        "\"\"\"\n",
        "In this section, we define two key components for training our model:\n",
        "1. **Loss Function**: The loss function measures how far the model's predictions are from the true labels. For classification tasks like MNIST, we use CrossEntropyLoss.\n",
        "2. **Optimizer**: The optimizer updates the model's weights based on the loss during training. Here, we use the Stochastic Gradient Descent (SGD) optimizer.\n",
        "3. **Learning Rate Scheduler**: This automatically adjusts the learning rate during training to make the model learn more efficiently.\n",
        "\n",
        "Let's go through these components in detail:\n",
        "\"\"\"\n",
        "\n",
        "\"\"\"\n",
        "- nn.CrossEntropyLoss is a common loss function for multi-class classification tasks.\n",
        "- It compares the predicted probabilities for each class with the true label and calculates a loss value.\n",
        "- The lower the loss, the better the model's predictions.\n",
        "\"\"\"\n",
        "criterion = nn.CrossEntropyLoss()\n",
        "\n",
        "\"\"\"\n",
        "- The optimizer updates the weights of the model during training based on the loss.\n",
        "- Stochastic Gradient Descent (SGD) is one of the most commonly used optimization algorithms.\n",
        "- Learning rate (lr=0.001): Controls how big the steps are during optimization. A smaller learning rate helps fine-tune the model more gradually.\n",
        "- Momentum (momentum=0.9): Helps the optimizer navigate faster by keeping track of the previous steps and pushing the optimization in the same direction if it's beneficial.\n",
        "\"\"\"\n",
        "optimizer_ft = optim.SGD(model_ft.parameters(), lr=0.001, momentum=0.9)\n",
        "\n",
        "\"\"\"\n",
        "- A learning rate scheduler adjusts the learning rate during training to improve efficiency.\n",
        "- StepLR reduces the learning rate by a factor of gamma (0.1) every 'step_size' (7 epochs in this case).\n",
        "- As the model improves, the learning rate is reduced to allow for finer updates to the weights.\n",
        "\"\"\"\n",
        "exp_lr_scheduler = lr_scheduler.StepLR(optimizer_ft, step_size=7, gamma=0.1)\n"
      ],
      "metadata": {
        "id": "QJqfZCttTy8y"
      },
      "execution_count": 8,
      "outputs": []
    },
    {
      "cell_type": "markdown",
      "source": [
        "**Loss Function (CrossEntropyLoss)**: This function tells the model how wrong its predictions are. The model's goal is to minimize this loss by adjusting its weights.\n",
        "\n",
        "**Optimizer (SGD)**: Think of the optimizer as the engine that drives the model to learn. It updates the model's weights based on how much the model is getting wrong (based on the loss function).\n",
        "\n",
        "**Learning Rate and Momentum:** The learning rate determines how big the steps are when updating the model's weights. Momentum helps smooth out the learning process, allowing the model to make more consistent progress.\n",
        "\n",
        "**Learning Rate Scheduler**:  As the model gets better, the learning rate is automatically reduced to allow for more fine-tuned learning."
      ],
      "metadata": {
        "id": "-JUFA_x4kTgX"
      }
    },
    {
      "cell_type": "code",
      "source": [
        "\"\"\"\n",
        "This function is for training the model and evaluating it at each epoch.\n",
        "- An epoch is one complete pass over the entire training dataset.\n",
        "- The function alternates between two phases in each epoch:\n",
        "  1. **Training phase**: The model learns from the training dataset.\n",
        "  2. **Validation phase**: The model is evaluated on the validation dataset to see how well it generalizes.\n",
        "\n",
        "The process involves:\n",
        "- Forward pass: Making predictions based on the input data.\n",
        "- Backward pass: Updating the model weights based on how wrong the predictions were (during training phase only).\n",
        "- Loss and accuracy calculation: Measuring how good the model's predictions are.\n",
        "- Best model selection: Keeping track of the best model by comparing the validation accuracy after each epoch.\n",
        "\"\"\"\n",
        "\n",
        "def train_model(model, criterion, optimizer, scheduler, num_epochs=10):\n",
        "    \"\"\"\n",
        "    Args:\n",
        "        model: The neural network model to be trained.\n",
        "        criterion: The loss function (CrossEntropyLoss) used to calculate the loss.\n",
        "        optimizer: Optimizer (SGD) used to update the model weights.\n",
        "        scheduler: Learning rate scheduler to adjust the learning rate after each epoch.\n",
        "        num_epochs: Number of epochs (iterations over the entire dataset).\n",
        "\n",
        "    Returns:\n",
        "        model: The best model obtained during training (based on validation accuracy).\n",
        "    \"\"\"\n",
        "\n",
        "    # Save a copy of the best model's weights\n",
        "    best_model_wts = copy.deepcopy(model.state_dict())\n",
        "\n",
        "    # Initialize the best accuracy to 0\n",
        "    best_acc = 0.0\n",
        "\n",
        "    # Loop over the number of epochs\n",
        "    for epoch in range(num_epochs):\n",
        "        print(f'Epoch {epoch}/{num_epochs - 1}')\n",
        "        print('-' * 10)\n",
        "\n",
        "        # Each epoch has a training and a validation phase\n",
        "        for phase in ['train', 'val']:\n",
        "            if phase == 'train':\n",
        "                model.train()  # Set model to training mode (enables gradient updates)\n",
        "            else:\n",
        "                model.eval()  # Set model to evaluation mode (disables gradient updates)\n",
        "\n",
        "            running_loss = 0.0  # Cumulative loss for the current epoch\n",
        "            running_corrects = 0  # Correct predictions in the current epoch\n",
        "\n",
        "            # Loop over the data (inputs and labels) in the DataLoader\n",
        "            for inputs, labels in dataloaders[phase]:\n",
        "                inputs = inputs.to(device)  # Move inputs to the device (GPU or CPU)\n",
        "                labels = labels.to(device)  # Move labels to the device\n",
        "\n",
        "                # Zero out any previously calculated gradients\n",
        "                optimizer.zero_grad()\n",
        "\n",
        "                # Forward pass (predict the outputs)\n",
        "                with torch.set_grad_enabled(phase == 'train'):\n",
        "                    outputs = model(inputs)  # Get the model's predictions\n",
        "                    _, preds = torch.max(outputs, 1)  # Get the predicted class with the highest score\n",
        "                    loss = criterion(outputs, labels)  # Calculate the loss\n",
        "\n",
        "                    # Backward pass and optimization in the training phase\n",
        "                    if phase == 'train':\n",
        "                        loss.backward()  # Compute the gradients\n",
        "                        optimizer.step()  # Update the model weights\n",
        "\n",
        "                # Track the loss and accuracy\n",
        "                running_loss += loss.item() * inputs.size(0)  # Multiply loss by batch size\n",
        "                running_corrects += torch.sum(preds == labels.data)  # Sum the correct predictions\n",
        "\n",
        "            # Calculate epoch-level loss and accuracy\n",
        "            epoch_loss = running_loss / dataset_sizes[phase]  # Average loss over all data points\n",
        "            epoch_acc = running_corrects.double() / dataset_sizes[phase]  # Accuracy: correct predictions / total samples\n",
        "\n",
        "            print(f'{phase} Loss: {epoch_loss:.4f} Acc: {epoch_acc:.4f}')\n",
        "\n",
        "            # Deep copy the model if the validation accuracy has improved\n",
        "            if phase == 'val' and epoch_acc > best_acc:\n",
        "                best_acc = epoch_acc\n",
        "                best_model_wts = copy.deepcopy(model.state_dict())\n",
        "\n",
        "        # Step the learning rate scheduler to adjust the learning rate\n",
        "        scheduler.step()\n",
        "\n",
        "    # Load the best model weights (the one with the highest validation accuracy)\n",
        "    model.load_state_dict(best_model_wts)\n",
        "\n",
        "    # Return the best model after training\n",
        "    return model"
      ],
      "metadata": {
        "id": "hKGW04lEUOWY"
      },
      "execution_count": 9,
      "outputs": []
    },
    {
      "cell_type": "markdown",
      "source": [
        "**Epoch:** One complete iteration over the training dataset. We repeat this process multiple times to allow the model to learn and improve.\n",
        "\n",
        "**Training vs. Validation:**\n",
        "\n",
        "T**raining phase**: The model learns by adjusting its weights based on the error (loss).\n",
        "\n",
        "**Validation phase**: The model is tested on unseen data to check how well it generalizes (no learning happens here).\n",
        "\n",
        "**Forward pass**: The model makes predictions based on input data.\n",
        "\n",
        "**Backward pass**: In the training phase, the model updates its weights by calculating how far its predictions are from the true labels (using the optimizer).\n",
        "\n",
        "**Loss**: A measure of how wrong the model's predictions are. The goal is to minimize this loss.\n",
        "\n",
        "**Accuracy**: Measures how many predictions the model got right. Higher accuracy means better performance.\n",
        "\n",
        "**Best Model**: The model that performs the best on the validation set (highest accuracy) is saved and returned at the end."
      ],
      "metadata": {
        "id": "c6l27KJqj-gV"
      }
    },
    {
      "cell_type": "code",
      "source": [
        "\n",
        "\"\"\"\n",
        "In this step, we train the model for 10 epochs using the train_model function.\n",
        "The model will be trained using the following:\n",
        "1. **model_ft**: The pre-trained ResNet50 model, modified for the MNIST dataset.\n",
        "2. **criterion**: The loss function (CrossEntropyLoss), which measures how far the model's predictions are from the true labels.\n",
        "3. **optimizer_ft**: The Stochastic Gradient Descent (SGD) optimizer that updates the model's weights.\n",
        "4. **exp_lr_scheduler**: The learning rate scheduler that automatically adjusts the learning rate every 7 epochs.\n",
        "5. **num_epochs=10**: The number of times the model will go through the training dataset.\n",
        "\n",
        "The function returns the model that performs best on the validation dataset.\n",
        "\"\"\"\n",
        "\n",
        "model_ft = train_model(model_ft, criterion, optimizer_ft, exp_lr_scheduler, num_epochs=1)\n"
      ],
      "metadata": {
        "colab": {
          "base_uri": "https://localhost:8080/"
        },
        "id": "gc6qCTXZUk1V",
        "outputId": "84af22df-e906-4345-c088-8b38b3d86a94"
      },
      "execution_count": 11,
      "outputs": [
        {
          "output_type": "stream",
          "name": "stdout",
          "text": [
            "Epoch 0/0\n",
            "----------\n",
            "train Loss: 0.0199 Acc: 0.9946\n",
            "val Loss: 0.0147 Acc: 0.9956\n"
          ]
        }
      ]
    },
    {
      "cell_type": "markdown",
      "source": [
        "**Training**:\n",
        "\n",
        "The model will now be trained on the MNIST dataset for 1 epochs. This means the model will look at all the images in the training set 1 times to learn from them.\n",
        "\n",
        "**Validation**:\n",
        "\n",
        " After each epoch, the model is tested on the validation dataset to check how well it performs on unseen data. If the model improves, it saves the best version of itself.\n",
        "\n",
        "**Result**:\n",
        "\n",
        " After 1 epochs, the best model (the one that performed the best on the validation data) will be saved and ready for evaluation or further use."
      ],
      "metadata": {
        "id": "4wwUxBw9jjn4"
      }
    },
    {
      "cell_type": "code",
      "source": [
        "\"\"\"\n",
        "This function visualizes the model's predictions on a few images from the validation set.\n",
        "It shows the images along with the predicted labels.\n",
        "\n",
        "Parameters:\n",
        "    model (torch.nn.Module): The trained model used for making predictions.\n",
        "    num_images (int): The number of images to visualize. Default is 6.\n",
        "\"\"\"\n",
        "\n",
        "def visualize_model(model, num_images=6):\n",
        "    \"\"\"\n",
        "    Visualizes the predictions of the trained model on a few validation images.\n",
        "\n",
        "    Parameters:\n",
        "        model (torch.nn.Module): The trained model.\n",
        "        num_images (int): The number of images to visualize.\n",
        "    \"\"\"\n",
        "    # Save the model's current training state to restore later\n",
        "    was_training = model.training\n",
        "    model.eval()  # Set model to evaluation mode (disables gradient updates)\n",
        "\n",
        "    images_so_far = 0\n",
        "    fig = plt.figure()  # Create a new figure for plotting images\n",
        "\n",
        "    with torch.no_grad():  # No need to compute gradients during visualization\n",
        "        # Iterate over batches of validation data\n",
        "        for i, (inputs, labels) in enumerate(dataloaders['val']):\n",
        "            inputs = inputs.to(device)  # Move inputs to the device (GPU or CPU)\n",
        "            labels = labels.to(device)  # Move labels to the device\n",
        "\n",
        "            outputs = model(inputs)  # Get the model's predictions\n",
        "            _, preds = torch.max(outputs, 1)  # Get the predicted class with the highest score\n",
        "\n",
        "            # Loop over the images in the batch\n",
        "            for j in range(inputs.size()[0]):\n",
        "                images_so_far += 1\n",
        "                ax = plt.subplot(num_images // 2, 2, images_so_far)  # Create a subplot for each image\n",
        "                ax.axis('off')  # Hide the axis\n",
        "                ax.set_title(f'Predicted: {class_names[preds[j]]}')  # Set the title to the predicted class\n",
        "                img = inputs.cpu().data[j].numpy().transpose((1, 2, 0))  # Convert tensor to numpy array and adjust dimensions\n",
        "                plt.imshow(img * 0.5 + 0.5)  # Unnormalize the image and display it\n",
        "\n",
        "                # Stop once the required number of images are displayed\n",
        "                if images_so_far == num_images:\n",
        "                    model.train(mode=was_training)  # Restore the model's training state\n",
        "                    return\n",
        "\n",
        "        # Restore the model's training state if not enough images were processed\n",
        "        model.train(mode=was_training)\n",
        "\n",
        "# Visualize predictions\n",
        "visualize_model(model_ft)"
      ],
      "metadata": {
        "colab": {
          "base_uri": "https://localhost:8080/",
          "height": 428
        },
        "id": "vLXHqo1hU3oa",
        "outputId": "95556de2-f23e-4e7f-d4bd-b187c5e9f23e"
      },
      "execution_count": 12,
      "outputs": [
        {
          "output_type": "display_data",
          "data": {
            "text/plain": [
              "<Figure size 640x480 with 6 Axes>"
            ],
            "image/png": "[encoded data removed]"
          },
          "metadata": {}
        }
      ]
    },
    {
      "cell_type": "markdown",
      "source": [
        "\n",
        " - model.eval(): This puts the model in evaluation mode, which disables certain behaviors used only during training (like dropout).\n",
        "\n",
        " - torch.no_grad(): This context manager is used to turn off gradient calculations, which are unnecessary for visualization and save computation time.\n",
        "\n",
        "**Plotting**:\n",
        " - plt.subplot(): Creates a grid of plots. num_images // 2, 2 ensures the images are arranged in a grid format.\n",
        "ax.axis('off'): Hides the axis for a cleaner look.\n",
        "ax.set_title(): Sets the title of each subplot to show the model’s prediction.\n",
        "\n",
        "**Normalization:**\n",
        " - plt.imshow(img * 0.5 + 0.5): The images were normalized during transformation (values between -1 and 1). This step reverses the normalization to display the image correctly.\n",
        "\n",
        "**Restoring Training State:**\n",
        " - model.train(mode=was_training): Restores the model to its original training state after visualization."
      ],
      "metadata": {
        "id": "hutHnvV7i8nP"
      }
    },
    {
      "cell_type": "code",
      "source": [
        "!pip freeze > requirements.txt"
      ],
      "metadata": {
        "id": "WJykKsbDb6eY"
      },
      "execution_count": 13,
      "outputs": []
    },
    {
      "cell_type": "code",
      "source": [
        "from google.colab import files\n",
        "files.download('requirements.txt')"
      ],
      "metadata": {
        "colab": {
          "base_uri": "https://localhost:8080/",
          "height": 17
        },
        "id": "kokT__xlnSAy",
        "outputId": "4d9f348e-4068-41b0-8c5b-0d92c233009a"
      },
      "execution_count": 15,
      "outputs": [
        {
          "output_type": "display_data",
          "data": {
            "text/plain": [
              "<IPython.core.display.Javascript object>"
            ],
            "application/javascript": [
              "\n",
              "    async function download(id, filename, size) {\n",
              "      if (!google.colab.kernel.accessAllowed) {\n",
              "        return;\n",
              "      }\n",
              "      const div = document.createElement('div');\n",
              "      const label = document.createElement('label');\n",
              "      label.textContent = `Downloading \"${filename}\": `;\n",
              "      div.appendChild(label);\n",
              "      const progress = document.createElement('progress');\n",
              "      progress.max = size;\n",
              "      div.appendChild(progress);\n",
              "      document.body.appendChild(div);\n",
              "\n",
              "      const buffers = [];\n",
              "      let downloaded = 0;\n",
              "\n",
              "      const channel = await google.colab.kernel.comms.open(id);\n",
              "      // Send a message to notify the kernel that we're ready.\n",
              "      channel.send({})\n",
              "\n",
              "      for await (const message of channel.messages) {\n",
              "        // Send a message to notify the kernel that we're ready.\n",
              "        channel.send({})\n",
              "        if (message.buffers) {\n",
              "          for (const buffer of message.buffers) {\n",
              "            buffers.push(buffer);\n",
              "            downloaded += buffer.byteLength;\n",
              "            progress.value = downloaded;\n",
              "          }\n",
              "        }\n",
              "      }\n",
              "      const blob = new Blob(buffers, {type: 'application/binary'});\n",
              "      const a = document.createElement('a');\n",
              "      a.href = window.URL.createObjectURL(blob);\n",
              "      a.download = filename;\n",
              "      div.appendChild(a);\n",
              "      a.click();\n",
              "      div.remove();\n",
              "    }\n",
              "  "
            ]
          },
          "metadata": {}
        },
        {
          "output_type": "display_data",
          "data": {
            "text/plain": [
              "<IPython.core.display.Javascript object>"
            ],
            "application/javascript": [
              "download(\"download_f6cf015b-b7a3-4167-946c-2da7125556a6\", \"requirements.txt\", 10490)"
            ]
          },
          "metadata": {}
        }
      ]
    },
    {
      "cell_type": "markdown",
      "source": [
        "**Conclusion:**\n",
        "\n",
        "By combining concepts from the paper with practical implementation in PyTorch, I trained a ResNet50 model using transfer learning on the MNIST dataset. I was able to fine-tune a pre-trained model and visualize its predictions on the MNIST validation set. This approach showcases the effectiveness of transfer learning as highlighted in the paper, making it possible to achieve good results even with a relatively small dataset like MNIST."
      ],
      "metadata": {
        "id": "VPHaEPA_oOAm"
      }
    },
    {
      "cell_type": "code",
      "source": [],
      "metadata": {
        "id": "1D2G4jsVnX23"
      },
      "execution_count": null,
      "outputs": []
    }
  ]
}