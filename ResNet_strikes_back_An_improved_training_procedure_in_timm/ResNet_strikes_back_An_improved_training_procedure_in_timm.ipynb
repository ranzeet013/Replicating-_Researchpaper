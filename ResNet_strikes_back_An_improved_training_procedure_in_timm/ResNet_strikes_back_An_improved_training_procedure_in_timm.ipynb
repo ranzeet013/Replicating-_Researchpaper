{
  "nbformat": 4,
  "nbformat_minor": 0,
  "metadata": {
    "colab": {
      "provenance": [],
      "gpuType": "T4"
    },
    "kernelspec": {
      "name": "python3",
      "display_name": "Python 3"
    },
    "language_info": {
      "name": "python"
    },
    "accelerator": "GPU",
    "widgets": {
      "application/vnd.jupyter.widget-state+json": {
        "001d7c7dd89d40ee86da16aee8c8b6ba": {
          "model_module": "@jupyter-widgets/controls",
          "model_name": "HBoxModel",
          "model_module_version": "1.5.0",
          "state": {
            "_dom_classes": [],
            "_model_module": "@jupyter-widgets/controls",
            "_model_module_version": "1.5.0",
            "_model_name": "HBoxModel",
            "_view_count": null,
            "_view_module": "@jupyter-widgets/controls",
            "_view_module_version": "1.5.0",
            "_view_name": "HBoxView",
            "box_style": "",
            "children": [
              "IPY_MODEL_d7b3af54786f4a2c95ebfd9d633c4a9c",
              "IPY_MODEL_2af12692ae24425c8cc57439df431917",
              "IPY_MODEL_f5cb371d2c50448ca8c4f0c3193a435b"
            ],
            "layout": "IPY_MODEL_360b46162e5040e5b3cbefa2338462af"
          }
        },
        "d7b3af54786f4a2c95ebfd9d633c4a9c": {
          "model_module": "@jupyter-widgets/controls",
          "model_name": "HTMLModel",
          "model_module_version": "1.5.0",
          "state": {
            "_dom_classes": [],
            "_model_module": "@jupyter-widgets/controls",
            "_model_module_version": "1.5.0",
            "_model_name": "HTMLModel",
            "_view_count": null,
            "_view_module": "@jupyter-widgets/controls",
            "_view_module_version": "1.5.0",
            "_view_name": "HTMLView",
            "description": "",
            "description_tooltip": null,
            "layout": "IPY_MODEL_36b9ac9d5cdf4281b9c96ae25f76ea28",
            "placeholder": "​",
            "style": "IPY_MODEL_3b010c97348e4b1a9c21d847e6f40de2",
            "value": "model.safetensors: 100%"
          }
        },
        "2af12692ae24425c8cc57439df431917": {
          "model_module": "@jupyter-widgets/controls",
          "model_name": "FloatProgressModel",
          "model_module_version": "1.5.0",
          "state": {
            "_dom_classes": [],
            "_model_module": "@jupyter-widgets/controls",
            "_model_module_version": "1.5.0",
            "_model_name": "FloatProgressModel",
            "_view_count": null,
            "_view_module": "@jupyter-widgets/controls",
            "_view_module_version": "1.5.0",
            "_view_name": "ProgressView",
            "bar_style": "success",
            "description": "",
            "description_tooltip": null,
            "layout": "IPY_MODEL_91167f328aff491889215454c0849051",
            "max": 102469840,
            "min": 0,
            "orientation": "horizontal",
            "style": "IPY_MODEL_cc32029a8ad14944b76750b917b0268f",
            "value": 102469840
          }
        },
        "f5cb371d2c50448ca8c4f0c3193a435b": {
          "model_module": "@jupyter-widgets/controls",
          "model_name": "HTMLModel",
          "model_module_version": "1.5.0",
          "state": {
            "_dom_classes": [],
            "_model_module": "@jupyter-widgets/controls",
            "_model_module_version": "1.5.0",
            "_model_name": "HTMLModel",
            "_view_count": null,
            "_view_module": "@jupyter-widgets/controls",
            "_view_module_version": "1.5.0",
            "_view_name": "HTMLView",
            "description": "",
            "description_tooltip": null,
            "layout": "IPY_MODEL_a5473ba1dd1d45afad50c2ef57a0f6f0",
            "placeholder": "​",
            "style": "IPY_MODEL_02e601070c024986bc07e595f535b257",
            "value": " 102M/102M [00:00&lt;00:00, 230MB/s]"
          }
        },
        "360b46162e5040e5b3cbefa2338462af": {
          "model_module": "@jupyter-widgets/base",
          "model_name": "LayoutModel",
          "model_module_version": "1.2.0",
          "state": {
            "_model_module": "@jupyter-widgets/base",
            "_model_module_version": "1.2.0",
            "_model_name": "LayoutModel",
            "_view_count": null,
            "_view_module": "@jupyter-widgets/base",
            "_view_module_version": "1.2.0",
            "_view_name": "LayoutView",
            "align_content": null,
            "align_items": null,
            "align_self": null,
            "border": null,
            "bottom": null,
            "display": null,
            "flex": null,
            "flex_flow": null,
            "grid_area": null,
            "grid_auto_columns": null,
            "grid_auto_flow": null,
            "grid_auto_rows": null,
            "grid_column": null,
            "grid_gap": null,
            "grid_row": null,
            "grid_template_areas": null,
            "grid_template_columns": null,
            "grid_template_rows": null,
            "height": null,
            "justify_content": null,
            "justify_items": null,
            "left": null,
            "margin": null,
            "max_height": null,
            "max_width": null,
            "min_height": null,
            "min_width": null,
            "object_fit": null,
            "object_position": null,
            "order": null,
            "overflow": null,
            "overflow_x": null,
            "overflow_y": null,
            "padding": null,
            "right": null,
            "top": null,
            "visibility": null,
            "width": null
          }
        },
        "36b9ac9d5cdf4281b9c96ae25f76ea28": {
          "model_module": "@jupyter-widgets/base",
          "model_name": "LayoutModel",
          "model_module_version": "1.2.0",
          "state": {
            "_model_module": "@jupyter-widgets/base",
            "_model_module_version": "1.2.0",
            "_model_name": "LayoutModel",
            "_view_count": null,
            "_view_module": "@jupyter-widgets/base",
            "_view_module_version": "1.2.0",
            "_view_name": "LayoutView",
            "align_content": null,
            "align_items": null,
            "align_self": null,
            "border": null,
            "bottom": null,
            "display": null,
            "flex": null,
            "flex_flow": null,
            "grid_area": null,
            "grid_auto_columns": null,
            "grid_auto_flow": null,
            "grid_auto_rows": null,
            "grid_column": null,
            "grid_gap": null,
            "grid_row": null,
            "grid_template_areas": null,
            "grid_template_columns": null,
            "grid_template_rows": null,
            "height": null,
            "justify_content": null,
            "justify_items": null,
            "left": null,
            "margin": null,
            "max_height": null,
            "max_width": null,
            "min_height": null,
            "min_width": null,
            "object_fit": null,
            "object_position": null,
            "order": null,
            "overflow": null,
            "overflow_x": null,
            "overflow_y": null,
            "padding": null,
            "right": null,
            "top": null,
            "visibility": null,
            "width": null
          }
        },
        "3b010c97348e4b1a9c21d847e6f40de2": {
          "model_module": "@jupyter-widgets/controls",
          "model_name": "DescriptionStyleModel",
          "model_module_version": "1.5.0",
          "state": {
            "_model_module": "@jupyter-widgets/controls",
            "_model_module_version": "1.5.0",
            "_model_name": "DescriptionStyleModel",
            "_view_count": null,
            "_view_module": "@jupyter-widgets/base",
            "_view_module_version": "1.2.0",
            "_view_name": "StyleView",
            "description_width": ""
          }
        },
        "91167f328aff491889215454c0849051": {
          "model_module": "@jupyter-widgets/base",
          "model_name": "LayoutModel",
          "model_module_version": "1.2.0",
          "state": {
            "_model_module": "@jupyter-widgets/base",
            "_model_module_version": "1.2.0",
            "_model_name": "LayoutModel",
            "_view_count": null,
            "_view_module": "@jupyter-widgets/base",
            "_view_module_version": "1.2.0",
            "_view_name": "LayoutView",
            "align_content": null,
            "align_items": null,
            "align_self": null,
            "border": null,
            "bottom": null,
            "display": null,
            "flex": null,
            "flex_flow": null,
            "grid_area": null,
            "grid_auto_columns": null,
            "grid_auto_flow": null,
            "grid_auto_rows": null,
            "grid_column": null,
            "grid_gap": null,
            "grid_row": null,
            "grid_template_areas": null,
            "grid_template_columns": null,
            "grid_template_rows": null,
            "height": null,
            "justify_content": null,
            "justify_items": null,
            "left": null,
            "margin": null,
            "max_height": null,
            "max_width": null,
            "min_height": null,
            "min_width": null,
            "object_fit": null,
            "object_position": null,
            "order": null,
            "overflow": null,
            "overflow_x": null,
            "overflow_y": null,
            "padding": null,
            "right": null,
            "top": null,
            "visibility": null,
            "width": null
          }
        },
        "cc32029a8ad14944b76750b917b0268f": {
          "model_module": "@jupyter-widgets/controls",
          "model_name": "ProgressStyleModel",
          "model_module_version": "1.5.0",
          "state": {
            "_model_module": "@jupyter-widgets/controls",
            "_model_module_version": "1.5.0",
            "_model_name": "ProgressStyleModel",
            "_view_count": null,
            "_view_module": "@jupyter-widgets/base",
            "_view_module_version": "1.2.0",
            "_view_name": "StyleView",
            "bar_color": null,
            "description_width": ""
          }
        },
        "a5473ba1dd1d45afad50c2ef57a0f6f0": {
          "model_module": "@jupyter-widgets/base",
          "model_name": "LayoutModel",
          "model_module_version": "1.2.0",
          "state": {
            "_model_module": "@jupyter-widgets/base",
            "_model_module_version": "1.2.0",
            "_model_name": "LayoutModel",
            "_view_count": null,
            "_view_module": "@jupyter-widgets/base",
            "_view_module_version": "1.2.0",
            "_view_name": "LayoutView",
            "align_content": null,
            "align_items": null,
            "align_self": null,
            "border": null,
            "bottom": null,
            "display": null,
            "flex": null,
            "flex_flow": null,
            "grid_area": null,
            "grid_auto_columns": null,
            "grid_auto_flow": null,
            "grid_auto_rows": null,
            "grid_column": null,
            "grid_gap": null,
            "grid_row": null,
            "grid_template_areas": null,
            "grid_template_columns": null,
            "grid_template_rows": null,
            "height": null,
            "justify_content": null,
            "justify_items": null,
            "left": null,
            "margin": null,
            "max_height": null,
            "max_width": null,
            "min_height": null,
            "min_width": null,
            "object_fit": null,
            "object_position": null,
            "order": null,
            "overflow": null,
            "overflow_x": null,
            "overflow_y": null,
            "padding": null,
            "right": null,
            "top": null,
            "visibility": null,
            "width": null
          }
        },
        "02e601070c024986bc07e595f535b257": {
          "model_module": "@jupyter-widgets/controls",
          "model_name": "DescriptionStyleModel",
          "model_module_version": "1.5.0",
          "state": {
            "_model_module": "@jupyter-widgets/controls",
            "_model_module_version": "1.5.0",
            "_model_name": "DescriptionStyleModel",
            "_view_count": null,
            "_view_module": "@jupyter-widgets/base",
            "_view_module_version": "1.2.0",
            "_view_name": "StyleView",
            "description_width": ""
          }
        }
      }
    }
  },
  "cells": [
    {
      "cell_type": "code",
      "execution_count": 1,
      "metadata": {
        "colab": {
          "base_uri": "https://localhost:8080/"
        },
        "id": "-0CkOse6doIq",
        "outputId": "6f60196c-e594-449f-a02b-88f8c7b778dc"
      },
      "outputs": [
        {
          "output_type": "stream",
          "name": "stdout",
          "text": [
            "Requirement already satisfied: torch in /usr/local/lib/python3.10/dist-packages (2.4.1+cu121)\n",
            "Requirement already satisfied: torchvision in /usr/local/lib/python3.10/dist-packages (0.19.1+cu121)\n",
            "Collecting timm\n",
            "  Downloading timm-1.0.9-py3-none-any.whl.metadata (42 kB)\n",
            "\u001b[2K     \u001b[90m━━━━━━━━━━━━━━━━━━━━━━━━━━━━━━━━━━━━━━━━\u001b[0m \u001b[32m42.4/42.4 kB\u001b[0m \u001b[31m1.8 MB/s\u001b[0m eta \u001b[36m0:00:00\u001b[0m\n",
            "\u001b[?25hRequirement already satisfied: transformers in /usr/local/lib/python3.10/dist-packages (4.44.2)\n",
            "Requirement already satisfied: filelock in /usr/local/lib/python3.10/dist-packages (from torch) (3.16.1)\n",
            "Requirement already satisfied: typing-extensions>=4.8.0 in /usr/local/lib/python3.10/dist-packages (from torch) (4.12.2)\n",
            "Requirement already satisfied: sympy in /usr/local/lib/python3.10/dist-packages (from torch) (1.13.3)\n",
            "Requirement already satisfied: networkx in /usr/local/lib/python3.10/dist-packages (from torch) (3.3)\n",
            "Requirement already satisfied: jinja2 in /usr/local/lib/python3.10/dist-packages (from torch) (3.1.4)\n",
            "Requirement already satisfied: fsspec in /usr/local/lib/python3.10/dist-packages (from torch) (2024.6.1)\n",
            "Requirement already satisfied: numpy in /usr/local/lib/python3.10/dist-packages (from torchvision) (1.26.4)\n",
            "Requirement already satisfied: pillow!=8.3.*,>=5.3.0 in /usr/local/lib/python3.10/dist-packages (from torchvision) (10.4.0)\n",
            "Requirement already satisfied: pyyaml in /usr/local/lib/python3.10/dist-packages (from timm) (6.0.2)\n",
            "Requirement already satisfied: huggingface_hub in /usr/local/lib/python3.10/dist-packages (from timm) (0.24.7)\n",
            "Requirement already satisfied: safetensors in /usr/local/lib/python3.10/dist-packages (from timm) (0.4.5)\n",
            "Requirement already satisfied: packaging>=20.0 in /usr/local/lib/python3.10/dist-packages (from transformers) (24.1)\n",
            "Requirement already satisfied: regex!=2019.12.17 in /usr/local/lib/python3.10/dist-packages (from transformers) (2024.9.11)\n",
            "Requirement already satisfied: requests in /usr/local/lib/python3.10/dist-packages (from transformers) (2.32.3)\n",
            "Requirement already satisfied: tokenizers<0.20,>=0.19 in /usr/local/lib/python3.10/dist-packages (from transformers) (0.19.1)\n",
            "Requirement already satisfied: tqdm>=4.27 in /usr/local/lib/python3.10/dist-packages (from transformers) (4.66.5)\n",
            "Requirement already satisfied: MarkupSafe>=2.0 in /usr/local/lib/python3.10/dist-packages (from jinja2->torch) (2.1.5)\n",
            "Requirement already satisfied: charset-normalizer<4,>=2 in /usr/local/lib/python3.10/dist-packages (from requests->transformers) (3.3.2)\n",
            "Requirement already satisfied: idna<4,>=2.5 in /usr/local/lib/python3.10/dist-packages (from requests->transformers) (3.10)\n",
            "Requirement already satisfied: urllib3<3,>=1.21.1 in /usr/local/lib/python3.10/dist-packages (from requests->transformers) (2.2.3)\n",
            "Requirement already satisfied: certifi>=2017.4.17 in /usr/local/lib/python3.10/dist-packages (from requests->transformers) (2024.8.30)\n",
            "Requirement already satisfied: mpmath<1.4,>=1.1.0 in /usr/local/lib/python3.10/dist-packages (from sympy->torch) (1.3.0)\n",
            "Downloading timm-1.0.9-py3-none-any.whl (2.3 MB)\n",
            "\u001b[2K   \u001b[90m━━━━━━━━━━━━━━━━━━━━━━━━━━━━━━━━━━━━━━━━\u001b[0m \u001b[32m2.3/2.3 MB\u001b[0m \u001b[31m23.6 MB/s\u001b[0m eta \u001b[36m0:00:00\u001b[0m\n",
            "\u001b[?25hInstalling collected packages: timm\n",
            "Successfully installed timm-1.0.9\n"
          ]
        }
      ],
      "source": [
        "pip install torch torchvision timm transformers"
      ]
    },
    {
      "cell_type": "code",
      "source": [
        "import torch\n",
        "import torch.nn as nn\n",
        "import torch.optim as optim\n",
        "from torchvision import datasets, transforms\n",
        "from timm.models import resnet50\n",
        "from timm.data.mixup import Mixup\n",
        "from timm.data.random_erasing import RandomErasing\n",
        "from timm.loss import BinaryCrossEntropy\n",
        "from torch.nn import BCEWithLogitsLoss"
      ],
      "metadata": {
        "id": "Fqwn1dkDdtjv"
      },
      "execution_count": 2,
      "outputs": []
    },
    {
      "cell_type": "code",
      "source": [
        "from torch.utils.data import DataLoader\n",
        "from torchvision import datasets\n",
        "import torchvision.transforms as transforms\n",
        "from torchvision.transforms import RandomErasing"
      ],
      "metadata": {
        "id": "NUD2pHxvdtmI"
      },
      "execution_count": 3,
      "outputs": []
    },
    {
      "cell_type": "code",
      "source": [
        "def get_device():\n",
        "    \"\"\"\n",
        "    Determines the device to be used for tensor operations in PyTorch.\n",
        "\n",
        "    This function checks if a CUDA-enabled GPU is available and returns\n",
        "    'cuda' if so; otherwise, it returns 'cpu'. This is useful for ensuring\n",
        "    that the code runs on a GPU when available, falling back to the CPU\n",
        "    if necessary.\n",
        "\n",
        "    Returns:\n",
        "        torch.device: The device ('cuda' or 'cpu') that will be used\n",
        "                      for computations.\n",
        "    \"\"\"\n",
        "    return torch.device('cuda' if torch.cuda.is_available() else 'cpu')\n",
        "\n",
        "device = get_device()"
      ],
      "metadata": {
        "id": "eWDOccE_dtod"
      },
      "execution_count": 4,
      "outputs": []
    },
    {
      "cell_type": "code",
      "source": [
        "print(device)"
      ],
      "metadata": {
        "colab": {
          "base_uri": "https://localhost:8080/"
        },
        "id": "dwsEDmAsd3kZ",
        "outputId": "51beff50-3960-4c7e-fa66-cc164bdedc56"
      },
      "execution_count": 5,
      "outputs": [
        {
          "output_type": "stream",
          "name": "stdout",
          "text": [
            "cuda\n"
          ]
        }
      ]
    },
    {
      "cell_type": "code",
      "source": [
        "transform_train = transforms.Compose([\n",
        "    transforms.Grayscale(num_output_channels=3),  # Convert MNIST images to 3 channels\n",
        "    transforms.RandomResizedCrop(224),  # Randomly crop and resize to 224x224\n",
        "    transforms.RandomHorizontalFlip(),  # Random horizontal flip for augmentation\n",
        "    transforms.ToTensor(),  # Convert image to PyTorch tensor\n",
        "    transforms.Normalize((0.1307, 0.1307, 0.1307), (0.3081, 0.3081, 0.3081)),  # Normalize\n",
        "    transforms.RandomErasing(p=0.5)  # Randomly erase part of the image (50% chance)\n",
        "])\n",
        "\n",
        "\"\"\"\n",
        "This composition of transformations prepares images for training by:\n",
        "1. Converting the MNIST images from 1 channel (grayscale) to 3 channels to ensure compatibility with models expecting RGB input.\n",
        "2. Randomly cropping and resizing the image to 224x224 pixels, which helps the model become invariant to object scale and position.\n",
        "3. Randomly flipping the image horizontally to augment the dataset, providing the model with varied input to improve generalization.\n",
        "4. Converting the image to a PyTorch tensor, which is necessary for processing with PyTorch models.\n",
        "5. Normalizing the image using the MNIST dataset's mean (0.1307) and standard deviation (0.3081) for better model training stability.\n",
        "6. Randomly erasing parts of the image with a 50% chance, which helps the model learn to be robust to occlusions and missing features.\n",
        "\"\"\"\n"
      ],
      "metadata": {
        "colab": {
          "base_uri": "https://localhost:8080/",
          "height": 91
        },
        "id": "BbnHVN5gd5Zr",
        "outputId": "89927048-030f-44fc-a26b-5e7e9a3d339b"
      },
      "execution_count": 6,
      "outputs": [
        {
          "output_type": "execute_result",
          "data": {
            "text/plain": [
              "\"\\nThis composition of transformations prepares images for training by:\\n1. Converting the MNIST images from 1 channel (grayscale) to 3 channels to ensure compatibility with models expecting RGB input.\\n2. Randomly cropping and resizing the image to 224x224 pixels, which helps the model become invariant to object scale and position.\\n3. Randomly flipping the image horizontally to augment the dataset, providing the model with varied input to improve generalization.\\n4. Converting the image to a PyTorch tensor, which is necessary for processing with PyTorch models.\\n5. Normalizing the image using the MNIST dataset's mean (0.1307) and standard deviation (0.3081) for better model training stability.\\n6. Randomly erasing parts of the image with a 50% chance, which helps the model learn to be robust to occlusions and missing features.\\n\""
            ],
            "application/vnd.google.colaboratory.intrinsic+json": {
              "type": "string"
            }
          },
          "metadata": {},
          "execution_count": 6
        }
      ]
    },
    {
      "cell_type": "code",
      "source": [
        "transform_test = transforms.Compose([\n",
        "    transforms.Grayscale(num_output_channels=3),  # Convert MNIST images to 3 channels\n",
        "    transforms.Resize(224),  # Resize to 224x224\n",
        "    transforms.ToTensor(),  # Convert image to PyTorch tensor\n",
        "    transforms.Normalize((0.1307, 0.1307, 0.1307), (0.3081, 0.3081, 0.3081))  # Normalize\n",
        "])\n",
        "\n",
        "\"\"\"\n",
        "This composition of transformations prepares images for testing by:\n",
        "1. Converting the MNIST images from 1 channel (grayscale) to 3 channels to ensure compatibility with models expecting RGB input.\n",
        "2. Resizing the image to 224x224 pixels, which standardizes the input size for the model.\n",
        "3. Converting the image to a PyTorch tensor, enabling the model to process the data.\n",
        "4. Normalizing the image using the MNIST dataset's mean (0.1307) and standard deviation (0.3081) to maintain consistency with the training data and improve model performance.\n",
        "\"\"\"\n"
      ],
      "metadata": {
        "colab": {
          "base_uri": "https://localhost:8080/",
          "height": 73
        },
        "id": "asyB4uHyd9I_",
        "outputId": "ec2f4d63-32a2-4401-e6d3-81bd92413337"
      },
      "execution_count": 7,
      "outputs": [
        {
          "output_type": "execute_result",
          "data": {
            "text/plain": [
              "\"\\nThis composition of transformations prepares images for testing by:\\n1. Converting the MNIST images from 1 channel (grayscale) to 3 channels to ensure compatibility with models expecting RGB input.\\n2. Resizing the image to 224x224 pixels, which standardizes the input size for the model.\\n3. Converting the image to a PyTorch tensor, enabling the model to process the data.\\n4. Normalizing the image using the MNIST dataset's mean (0.1307) and standard deviation (0.3081) to maintain consistency with the training data and improve model performance.\\n\""
            ],
            "application/vnd.google.colaboratory.intrinsic+json": {
              "type": "string"
            }
          },
          "metadata": {},
          "execution_count": 7
        }
      ]
    },
    {
      "cell_type": "code",
      "source": [
        "# Load the MNIST dataset\n",
        "train_dataset = datasets.MNIST(root='./data', train=True, transform=transform_train, download=True)\n",
        "test_dataset = datasets.MNIST(root='./data', train=False, transform=transform_test)\n",
        "\n",
        "\"\"\"\n",
        "The MNIST dataset is loaded using the torchvision.datasets.MNIST class. The training dataset\n",
        "contains images and labels for training the model, while the test dataset is used for evaluating\n",
        "the model's performance.\n",
        "\n",
        "- `train_dataset`: Contains the training data with transformations applied via `transform_train`.\n",
        "- `test_dataset`: Contains the test data with transformations applied via `transform_test`.\n",
        "\"\"\"\n"
      ],
      "metadata": {
        "colab": {
          "base_uri": "https://localhost:8080/",
          "height": 719
        },
        "id": "_iGI_cHjd_C9",
        "outputId": "a3a00999-a5b5-47e7-a371-220a0dad0d3e"
      },
      "execution_count": 8,
      "outputs": [
        {
          "output_type": "stream",
          "name": "stdout",
          "text": [
            "Downloading http://yann.lecun.com/exdb/mnist/train-images-idx3-ubyte.gz\n",
            "Failed to download (trying next):\n",
            "HTTP Error 403: Forbidden\n",
            "\n",
            "Downloading https://ossci-datasets.s3.amazonaws.com/mnist/train-images-idx3-ubyte.gz\n",
            "Downloading https://ossci-datasets.s3.amazonaws.com/mnist/train-images-idx3-ubyte.gz to ./data/MNIST/raw/train-images-idx3-ubyte.gz\n"
          ]
        },
        {
          "output_type": "stream",
          "name": "stderr",
          "text": [
            "100%|██████████| 9912422/9912422 [00:11<00:00, 898614.06it/s] \n"
          ]
        },
        {
          "output_type": "stream",
          "name": "stdout",
          "text": [
            "Extracting ./data/MNIST/raw/train-images-idx3-ubyte.gz to ./data/MNIST/raw\n",
            "\n",
            "Downloading http://yann.lecun.com/exdb/mnist/train-labels-idx1-ubyte.gz\n",
            "Failed to download (trying next):\n",
            "HTTP Error 403: Forbidden\n",
            "\n",
            "Downloading https://ossci-datasets.s3.amazonaws.com/mnist/train-labels-idx1-ubyte.gz\n",
            "Downloading https://ossci-datasets.s3.amazonaws.com/mnist/train-labels-idx1-ubyte.gz to ./data/MNIST/raw/train-labels-idx1-ubyte.gz\n"
          ]
        },
        {
          "output_type": "stream",
          "name": "stderr",
          "text": [
            "100%|██████████| 28881/28881 [00:00<00:00, 62760.80it/s]\n"
          ]
        },
        {
          "output_type": "stream",
          "name": "stdout",
          "text": [
            "Extracting ./data/MNIST/raw/train-labels-idx1-ubyte.gz to ./data/MNIST/raw\n",
            "\n",
            "Downloading http://yann.lecun.com/exdb/mnist/t10k-images-idx3-ubyte.gz\n",
            "Failed to download (trying next):\n",
            "HTTP Error 403: Forbidden\n",
            "\n",
            "Downloading https://ossci-datasets.s3.amazonaws.com/mnist/t10k-images-idx3-ubyte.gz\n",
            "Downloading https://ossci-datasets.s3.amazonaws.com/mnist/t10k-images-idx3-ubyte.gz to ./data/MNIST/raw/t10k-images-idx3-ubyte.gz\n"
          ]
        },
        {
          "output_type": "stream",
          "name": "stderr",
          "text": [
            "100%|██████████| 1648877/1648877 [00:01<00:00, 1240991.88it/s]\n"
          ]
        },
        {
          "output_type": "stream",
          "name": "stdout",
          "text": [
            "Extracting ./data/MNIST/raw/t10k-images-idx3-ubyte.gz to ./data/MNIST/raw\n",
            "\n",
            "Downloading http://yann.lecun.com/exdb/mnist/t10k-labels-idx1-ubyte.gz\n",
            "Failed to download (trying next):\n",
            "HTTP Error 403: Forbidden\n",
            "\n",
            "Downloading https://ossci-datasets.s3.amazonaws.com/mnist/t10k-labels-idx1-ubyte.gz\n",
            "Downloading https://ossci-datasets.s3.amazonaws.com/mnist/t10k-labels-idx1-ubyte.gz to ./data/MNIST/raw/t10k-labels-idx1-ubyte.gz\n"
          ]
        },
        {
          "output_type": "stream",
          "name": "stderr",
          "text": [
            "100%|██████████| 4542/4542 [00:00<00:00, 9942864.70it/s]"
          ]
        },
        {
          "output_type": "stream",
          "name": "stdout",
          "text": [
            "Extracting ./data/MNIST/raw/t10k-labels-idx1-ubyte.gz to ./data/MNIST/raw\n",
            "\n"
          ]
        },
        {
          "output_type": "stream",
          "name": "stderr",
          "text": [
            "\n"
          ]
        },
        {
          "output_type": "execute_result",
          "data": {
            "text/plain": [
              "\"\\nThe MNIST dataset is loaded using the torchvision.datasets.MNIST class. The training dataset\\ncontains images and labels for training the model, while the test dataset is used for evaluating\\nthe model's performance.\\n\\n- `train_dataset`: Contains the training data with transformations applied via `transform_train`.\\n- `test_dataset`: Contains the test data with transformations applied via `transform_test`.\\n\""
            ],
            "application/vnd.google.colaboratory.intrinsic+json": {
              "type": "string"
            }
          },
          "metadata": {},
          "execution_count": 8
        }
      ]
    },
    {
      "cell_type": "code",
      "source": [
        "\n",
        "# Create data loaders for batching and shuffling the datasets\n",
        "train_loader = DataLoader(train_dataset, batch_size=32, shuffle=True)\n",
        "test_loader = DataLoader(test_dataset, batch_size=32, shuffle=False)\n",
        "\n",
        "\"\"\"\n",
        "Data loaders are created using the torch.utils.data.DataLoader class to facilitate batching\n",
        "and shuffling of the datasets during training and testing.\n",
        "\n",
        "- `train_loader`: Loads the training dataset in batches of 32, shuffling the data to ensure\n",
        "  that the model learns from a varied sample of the dataset in each epoch.\n",
        "- `test_loader`: Loads the test dataset in batches of 32 without shuffling, maintaining the\n",
        "  order for consistent evaluation.\n",
        "\"\"\"\n"
      ],
      "metadata": {
        "colab": {
          "base_uri": "https://localhost:8080/",
          "height": 55
        },
        "id": "jYSZ1VNUeAxM",
        "outputId": "3649af6d-ccea-4df7-f920-8b4558421949"
      },
      "execution_count": 9,
      "outputs": [
        {
          "output_type": "execute_result",
          "data": {
            "text/plain": [
              "'\\nData loaders are created using the torch.utils.data.DataLoader class to facilitate batching\\nand shuffling of the datasets during training and testing.\\n\\n- `train_loader`: Loads the training dataset in batches of 32, shuffling the data to ensure\\n  that the model learns from a varied sample of the dataset in each epoch.\\n- `test_loader`: Loads the test dataset in batches of 32 without shuffling, maintaining the\\n  order for consistent evaluation.\\n'"
            ],
            "application/vnd.google.colaboratory.intrinsic+json": {
              "type": "string"
            }
          },
          "metadata": {},
          "execution_count": 9
        }
      ]
    },
    {
      "cell_type": "code",
      "source": [
        "def load_and_transform_sample_image():\n",
        "    \"\"\"\n",
        "    Loads a sample image from the MNIST dataset, applies transformations, and displays the result.\n",
        "\n",
        "    Process:\n",
        "    1. Loads a grayscale MNIST image.\n",
        "    2. Converts the image to PIL format and applies the training transformations.\n",
        "    3. Prints the shape of the transformed image to verify 3 channels.\n",
        "    4. Displays the transformed image.\n",
        "\n",
        "    Returns:\n",
        "        None\n",
        "    \"\"\"\n",
        "    sample_image = datasets.MNIST(root='./data', train=True, download=True).data[0].unsqueeze(0)\n",
        "    sample_image = Image.fromarray(sample_image.numpy()[0], mode='L')  # Convert to PIL image\n",
        "    transformed_image = transform_train(sample_image)  # Apply transformations\n",
        "    print(f\"Transformed image shape: {transformed_image.shape}\")  # Print shape\n",
        "    plt.imshow(transformed_image.permute(1, 2, 0).numpy())  # Display image\n",
        "    plt.axis('off')  # Hide axes\n",
        "    plt.show()"
      ],
      "metadata": {
        "id": "59tCTpsweEfy"
      },
      "execution_count": 10,
      "outputs": []
    },
    {
      "cell_type": "code",
      "source": [
        "from PIL import Image\n",
        "import matplotlib.pyplot as plt\n",
        "\n",
        "load_and_transform_sample_image()"
      ],
      "metadata": {
        "colab": {
          "base_uri": "https://localhost:8080/",
          "height": 443
        },
        "id": "D64MPSZ6eGNM",
        "outputId": "c57cc94c-18c0-4fd5-f006-34316f9cfd47"
      },
      "execution_count": 12,
      "outputs": [
        {
          "output_type": "stream",
          "name": "stderr",
          "text": [
            "WARNING:matplotlib.image:Clipping input data to the valid range for imshow with RGB data ([0..1] for floats or [0..255] for integers).\n"
          ]
        },
        {
          "output_type": "stream",
          "name": "stdout",
          "text": [
            "Transformed image shape: torch.Size([3, 224, 224])\n"
          ]
        },
        {
          "output_type": "display_data",
          "data": {
            "text/plain": [
              "<Figure size 640x480 with 1 Axes>"
            ],
            "image/png": "[encoded data removed]"
          },
          "metadata": {}
        }
      ]
    },
    {
      "cell_type": "code",
      "source": [
        "# Mixup and CutMix settings for augmentation\n",
        "mixup_fn = Mixup(\n",
        "    mixup_alpha=0.2,  # Mixup factor\n",
        "    cutmix_alpha=1.0,  # CutMix factor\n",
        "    cutmix_minmax=None,  # Default CutMix\n",
        "    prob=1.0,  # Probability of applying Mixup/CutMix\n",
        "    switch_prob=0.5  # Probability to switch between Mixup and CutMix\n",
        ")\n",
        "\n",
        "\"\"\"\n",
        "Mixup and CutMix are data augmentation techniques used to improve model robustness by\n",
        "creating new training examples through a combination of existing ones.\n",
        "\n",
        "- `mixup_alpha`: Controls the degree of mixing between two images in Mixup. A higher value\n",
        "  allows for more significant blending, while a lower value results in less mixing.\n",
        "\n",
        "- `cutmix_alpha`: Controls the degree of mixing for CutMix, which involves cutting out\n",
        "  a portion of one image and pasting it onto another. A higher value allows for more\n",
        "  significant regions to be mixed.\n",
        "\n",
        "- `cutmix_minmax`: Specifies the minimum and maximum ratio for the area cut and mixed.\n",
        "  If set to `None`, default values are used.\n",
        "\n",
        "- `prob`: The probability of applying either Mixup or CutMix to the input data. A value of\n",
        "  1.0 means that the augmentation will always be applied.\n",
        "\n",
        "- `switch_prob`: The probability of switching between Mixup and CutMix when augmenting\n",
        "  the data. A value of 0.5 means there's an equal chance of applying either method.\n",
        "\"\"\"\n"
      ],
      "metadata": {
        "colab": {
          "base_uri": "https://localhost:8080/",
          "height": 91
        },
        "id": "3lHDSI3feIPU",
        "outputId": "cdec5b2c-6cec-4848-fcea-632e1aa41c58"
      },
      "execution_count": 13,
      "outputs": [
        {
          "output_type": "execute_result",
          "data": {
            "text/plain": [
              "\"\\nMixup and CutMix are data augmentation techniques used to improve model robustness by\\ncreating new training examples through a combination of existing ones.\\n\\n- `mixup_alpha`: Controls the degree of mixing between two images in Mixup. A higher value\\n  allows for more significant blending, while a lower value results in less mixing.\\n\\n- `cutmix_alpha`: Controls the degree of mixing for CutMix, which involves cutting out\\n  a portion of one image and pasting it onto another. A higher value allows for more\\n  significant regions to be mixed.\\n\\n- `cutmix_minmax`: Specifies the minimum and maximum ratio for the area cut and mixed.\\n  If set to `None`, default values are used.\\n\\n- `prob`: The probability of applying either Mixup or CutMix to the input data. A value of\\n  1.0 means that the augmentation will always be applied.\\n\\n- `switch_prob`: The probability of switching between Mixup and CutMix when augmenting\\n  the data. A value of 0.5 means there's an equal chance of applying either method.\\n\""
            ],
            "application/vnd.google.colaboratory.intrinsic+json": {
              "type": "string"
            }
          },
          "metadata": {},
          "execution_count": 13
        }
      ]
    },
    {
      "cell_type": "code",
      "source": [
        "# Load ResNet-50 model with pretrained weights and adjust for MNIST classification\n",
        "model = resnet50(pretrained=True, num_classes=10)\n",
        "model.fc = nn.Linear(model.fc.in_features, 10)  # Adjust the final layer for 10 classes\n",
        "model = model.to(device)\n",
        "\n",
        "\"\"\"\n",
        "Load and configure the ResNet-50 model for the MNIST classification task.\n",
        "\n",
        "- `resnet50(pretrained=True)`: Loads the ResNet-50 model architecture with weights\n",
        "  pretrained on ImageNet. This allows the model to leverage learned features from\n",
        "  a larger dataset, improving performance on the MNIST dataset.\n",
        "\n",
        "- `num_classes=10`: Specifies the number of output classes for the model. MNIST\n",
        "  has 10 classes (digits 0-9).\n",
        "\n",
        "- `model.fc = nn.Linear(model.fc.in_features, 10)`: Modifies the fully connected\n",
        "  layer (classifier) of the ResNet-50 model to output 10 classes instead of the\n",
        "  default 1000 classes (used for ImageNet classification). This is crucial for\n",
        "  adapting the model to the MNIST dataset.\n",
        "\n",
        "- `model = model.to(device)`: Moves the model to the specified device (CPU or GPU)\n",
        "  for training or inference, ensuring that it can utilize available hardware acceleration.\n",
        "\"\"\"\n"
      ],
      "metadata": {
        "colab": {
          "base_uri": "https://localhost:8080/",
          "height": 234,
          "referenced_widgets": [
            "001d7c7dd89d40ee86da16aee8c8b6ba",
            "d7b3af54786f4a2c95ebfd9d633c4a9c",
            "2af12692ae24425c8cc57439df431917",
            "f5cb371d2c50448ca8c4f0c3193a435b",
            "360b46162e5040e5b3cbefa2338462af",
            "36b9ac9d5cdf4281b9c96ae25f76ea28",
            "3b010c97348e4b1a9c21d847e6f40de2",
            "91167f328aff491889215454c0849051",
            "cc32029a8ad14944b76750b917b0268f",
            "a5473ba1dd1d45afad50c2ef57a0f6f0",
            "02e601070c024986bc07e595f535b257"
          ]
        },
        "id": "wxuZgmcoeJ4C",
        "outputId": "6b004c73-5647-46f2-f62c-46931ee11d19"
      },
      "execution_count": 14,
      "outputs": [
        {
          "output_type": "stream",
          "name": "stderr",
          "text": [
            "/usr/local/lib/python3.10/dist-packages/huggingface_hub/utils/_token.py:89: UserWarning: \n",
            "The secret `HF_TOKEN` does not exist in your Colab secrets.\n",
            "To authenticate with the Hugging Face Hub, create a token in your settings tab (https://huggingface.co/settings/tokens), set it as secret in your Google Colab and restart your session.\n",
            "You will be able to reuse this secret in all of your notebooks.\n",
            "Please note that authentication is recommended but still optional to access public models or datasets.\n",
            "  warnings.warn(\n"
          ]
        },
        {
          "output_type": "display_data",
          "data": {
            "text/plain": [
              "model.safetensors:   0%|          | 0.00/102M [00:00<?, ?B/s]"
            ],
            "application/vnd.jupyter.widget-view+json": {
              "version_major": 2,
              "version_minor": 0,
              "model_id": "001d7c7dd89d40ee86da16aee8c8b6ba"
            }
          },
          "metadata": {}
        },
        {
          "output_type": "execute_result",
          "data": {
            "text/plain": [
              "'\\nLoad and configure the ResNet-50 model for the MNIST classification task.\\n\\n- `resnet50(pretrained=True)`: Loads the ResNet-50 model architecture with weights\\n  pretrained on ImageNet. This allows the model to leverage learned features from\\n  a larger dataset, improving performance on the MNIST dataset.\\n\\n- `num_classes=10`: Specifies the number of output classes for the model. MNIST\\n  has 10 classes (digits 0-9).\\n\\n- `model.fc = nn.Linear(model.fc.in_features, 10)`: Modifies the fully connected\\n  layer (classifier) of the ResNet-50 model to output 10 classes instead of the\\n  default 1000 classes (used for ImageNet classification). This is crucial for\\n  adapting the model to the MNIST dataset.\\n\\n- `model = model.to(device)`: Moves the model to the specified device (CPU or GPU)\\n  for training or inference, ensuring that it can utilize available hardware acceleration.\\n'"
            ],
            "application/vnd.google.colaboratory.intrinsic+json": {
              "type": "string"
            }
          },
          "metadata": {},
          "execution_count": 14
        }
      ]
    },
    {
      "cell_type": "code",
      "source": [
        "# Define the loss function (CrossEntropy for classification)\n",
        "criterion = nn.CrossEntropyLoss()\n",
        "\n",
        "# Define the optimizer (AdamW) and learning rate scheduler (CosineAnnealingLR)\n",
        "optimizer = optim.AdamW(model.parameters(), lr=5e-4, weight_decay=1e-2)\n",
        "scheduler = optim.lr_scheduler.CosineAnnealingLR(optimizer, T_max=10)\n",
        "\n",
        "\"\"\"\n",
        "Define the loss function, optimizer, and learning rate scheduler for training.\n",
        "\n",
        "- `criterion = nn.CrossEntropyLoss()`:\n",
        "  - Specifies the loss function used for multi-class classification tasks.\n",
        "  - Cross-entropy loss measures the performance of the classification model\n",
        "    whose output is a probability value between 0 and 1. It compares the predicted\n",
        "    class probabilities with the true labels and computes the average log\n",
        "    probability of the correct class.\n",
        "\n",
        "- `optimizer = optim.AdamW(model.parameters(), lr=5e-4, weight_decay=1e-2)`:\n",
        "  - Initializes the AdamW optimizer, which is an adaptive learning rate optimizer\n",
        "    that combines the benefits of Adam with weight decay regularization.\n",
        "  - The learning rate (`lr`) is set to 5e-4, which controls how much to adjust\n",
        "    the model parameters during training.\n",
        "  - `weight_decay=1e-2` adds L2 regularization to help prevent overfitting\n",
        "    by penalizing large weights.\n",
        "\n",
        "- `scheduler = optim.lr_scheduler.CosineAnnealingLR(optimizer, T_max=10)`:\n",
        "  - Defines a learning rate scheduler that reduces the learning rate according\n",
        "    to a cosine annealing schedule.\n",
        "  - `T_max=10` specifies the number of epochs after which the learning rate\n",
        "    will reach its minimum value before restarting, helping to improve training\n",
        "    stability and performance.\n",
        "\"\"\"\n"
      ],
      "metadata": {
        "colab": {
          "base_uri": "https://localhost:8080/",
          "height": 91
        },
        "id": "tSyQSDj8ehes",
        "outputId": "35eeb794-9dc7-4f2d-ec1b-82b699fa63ee"
      },
      "execution_count": 15,
      "outputs": [
        {
          "output_type": "execute_result",
          "data": {
            "text/plain": [
              "'\\nDefine the loss function, optimizer, and learning rate scheduler for training.\\n\\n- `criterion = nn.CrossEntropyLoss()`:\\n  - Specifies the loss function used for multi-class classification tasks.\\n  - Cross-entropy loss measures the performance of the classification model\\n    whose output is a probability value between 0 and 1. It compares the predicted\\n    class probabilities with the true labels and computes the average log\\n    probability of the correct class.\\n\\n- `optimizer = optim.AdamW(model.parameters(), lr=5e-4, weight_decay=1e-2)`:\\n  - Initializes the AdamW optimizer, which is an adaptive learning rate optimizer\\n    that combines the benefits of Adam with weight decay regularization.\\n  - The learning rate (`lr`) is set to 5e-4, which controls how much to adjust\\n    the model parameters during training.\\n  - `weight_decay=1e-2` adds L2 regularization to help prevent overfitting\\n    by penalizing large weights.\\n\\n- `scheduler = optim.lr_scheduler.CosineAnnealingLR(optimizer, T_max=10)`:\\n  - Defines a learning rate scheduler that reduces the learning rate according\\n    to a cosine annealing schedule.\\n  - `T_max=10` specifies the number of epochs after which the learning rate\\n    will reach its minimum value before restarting, helping to improve training\\n    stability and performance.\\n'"
            ],
            "application/vnd.google.colaboratory.intrinsic+json": {
              "type": "string"
            }
          },
          "metadata": {},
          "execution_count": 15
        }
      ]
    },
    {
      "cell_type": "code",
      "source": [
        "def train(model, device, train_loader, optimizer, epoch):\n",
        "    \"\"\"\n",
        "    Trains the model for one epoch using the provided data loader, optimizer, and device.\n",
        "\n",
        "    Args:\n",
        "        model (torch.nn.Module): The neural network model being trained.\n",
        "        device (torch.device): The device (CPU or GPU) for computation.\n",
        "        train_loader (torch.utils.data.DataLoader): DataLoader for the training dataset.\n",
        "        optimizer (torch.optim.Optimizer): Optimizer for model parameters.\n",
        "        epoch (int): The current training epoch number.\n",
        "\n",
        "    Process:\n",
        "    - Sets the model in training mode.\n",
        "    - Iterates over batches of data, applying Mixup or CutMix augmentations to the input data and targets.\n",
        "    - Computes the model's output based on the input data.\n",
        "    - Calculates the loss using the specified loss function.\n",
        "    - Backpropagates the loss to update model weights.\n",
        "    - Prints training progress every 100 batches.\n",
        "\n",
        "    Notes:\n",
        "        - The `mixup_fn` function is applied to the data and targets to introduce data augmentation.\n",
        "        - If the targets are in one-hot format (multi-dimensional), they are converted back to class indices for compatibility with CrossEntropyLoss.\n",
        "    \"\"\"\n",
        "    model.train()  # Set model to training mode\n",
        "    for batch_idx, (data, target) in enumerate(train_loader):\n",
        "        data, target = data.to(device), target.to(device)  # Move data to device\n",
        "\n",
        "        # Apply Mixup/CutMix augmentation\n",
        "        data, targets = mixup_fn(data, target)  # This will return two tensors\n",
        "\n",
        "        # If targets are in one-hot format after mixup, convert them to class indices\n",
        "        if targets.ndim > 1:  # Check if targets are multi-dimensional\n",
        "            targets = targets.argmax(dim=1)  # Convert one-hot targets to class indices\n",
        "\n",
        "        optimizer.zero_grad()  # Clear previous gradients\n",
        "        output = model(data)  # Forward pass\n",
        "        loss = criterion(output, targets)  # Compute loss\n",
        "        loss.backward()  # Backpropagate loss\n",
        "        optimizer.step()  # Update model weights\n",
        "\n",
        "        if batch_idx % 100 == 0:\n",
        "            print(f'Train Epoch: {epoch} [{batch_idx * len(data)}/{len(train_loader.dataset)}] Loss: {loss.item():.6f}')\n"
      ],
      "metadata": {
        "id": "A8SenTLIekfK"
      },
      "execution_count": 16,
      "outputs": []
    },
    {
      "cell_type": "code",
      "source": [
        "def test(model, device, test_loader):\n",
        "    \"\"\"\n",
        "    Evaluates the model on the test dataset to measure its performance.\n",
        "\n",
        "    Args:\n",
        "        model (torch.nn.Module): The trained model to be evaluated.\n",
        "        device (torch.device): The device (CPU or GPU) used for computation.\n",
        "        test_loader (torch.utils.data.DataLoader): DataLoader for the test dataset.\n",
        "\n",
        "    Process:\n",
        "    - Sets the model to evaluation mode, which disables dropout and batch normalization updates.\n",
        "    - Initializes variables to track the cumulative test loss and the number of correct predictions.\n",
        "    - Iterates over batches of test data:\n",
        "        - Moves the data and target labels to the specified device.\n",
        "        - Computes the model's output predictions for the input data.\n",
        "        - Accumulates the test loss by summing the loss for each batch.\n",
        "        - Determines the predicted class by finding the index of the maximum log-probability.\n",
        "        - Counts the number of correct predictions by comparing the predicted classes with the target labels.\n",
        "    - Computes the average test loss and accuracy over the entire test dataset.\n",
        "    - Prints the average loss and accuracy metrics.\n",
        "\n",
        "    Example:\n",
        "        test(model, device, test_loader)\n",
        "    \"\"\"\n",
        "    model.eval()  # Set model to evaluation mode\n",
        "    test_loss = 0\n",
        "    correct = 0\n",
        "    with torch.no_grad():\n",
        "        for data, target in test_loader:\n",
        "            data, target = data.to(device), target.to(device)\n",
        "            output = model(data)\n",
        "            test_loss += criterion(output, target).item()  # Sum batch losses\n",
        "            pred = output.argmax(dim=1, keepdim=True)  # Get the index of the max log-probability\n",
        "            correct += pred.eq(target.view_as(pred)).sum().item()  # Count correct predictions\n",
        "\n",
        "    test_loss /= len(test_loader.dataset)\n",
        "    accuracy = 100. * correct / len(test_loader.dataset)\n",
        "    print(f'Test set: Average loss: {test_loss:.4f}, Accuracy: {correct}/{len(test_loader.dataset)} ({accuracy:.2f}%)')\n"
      ],
      "metadata": {
        "id": "coFAjK6len6n"
      },
      "execution_count": 17,
      "outputs": []
    },
    {
      "cell_type": "code",
      "source": [
        "for epoch in range(1, 6):\n",
        "    \"\"\"\n",
        "    Training and testing the model over multiple epochs.\n",
        "\n",
        "    This loop iterates over a specified number of epochs to train and evaluate the model.\n",
        "    For each epoch, the following steps are performed:\n",
        "    - The model is trained using the `train` function, which updates the model weights based on the training dataset.\n",
        "    - The model's performance is evaluated on the test dataset using the `test` function, which calculates the average loss and accuracy.\n",
        "    - The learning rate is adjusted using the `scheduler`, which helps improve training stability and convergence.\n",
        "\n",
        "    Args:\n",
        "        epoch (int): Current epoch number, starting from 1 to 10. This is used for logging and tracking training progress.\n",
        "    \"\"\"\n",
        "    train(model, device, train_loader, optimizer, epoch)  # Train for one epoch\n",
        "    test(model, device, test_loader)  # Evaluate on the test set\n",
        "    scheduler.step()  # Adjust the learning rate based on the scheduler\n"
      ],
      "metadata": {
        "colab": {
          "base_uri": "https://localhost:8080/"
        },
        "id": "0An5pw89epy9",
        "outputId": "1cf692c1-ba1f-443f-997a-256a07445d40"
      },
      "execution_count": 18,
      "outputs": [
        {
          "output_type": "stream",
          "name": "stdout",
          "text": [
            "Train Epoch: 1 [0/60000] Loss: 2.299524\n",
            "Train Epoch: 1 [3200/60000] Loss: 2.162246\n",
            "Train Epoch: 1 [6400/60000] Loss: 0.936295\n",
            "Train Epoch: 1 [9600/60000] Loss: 1.187570\n",
            "Train Epoch: 1 [12800/60000] Loss: 1.196038\n",
            "Train Epoch: 1 [16000/60000] Loss: 0.873035\n",
            "Train Epoch: 1 [19200/60000] Loss: 0.576654\n",
            "Train Epoch: 1 [22400/60000] Loss: 0.744200\n",
            "Train Epoch: 1 [25600/60000] Loss: 0.552834\n",
            "Train Epoch: 1 [28800/60000] Loss: 0.605903\n",
            "Train Epoch: 1 [32000/60000] Loss: 0.528708\n",
            "Train Epoch: 1 [35200/60000] Loss: 0.670577\n",
            "Train Epoch: 1 [38400/60000] Loss: 0.574218\n",
            "Train Epoch: 1 [41600/60000] Loss: 1.433802\n",
            "Train Epoch: 1 [44800/60000] Loss: 0.562190\n",
            "Train Epoch: 1 [48000/60000] Loss: 0.556507\n",
            "Train Epoch: 1 [51200/60000] Loss: 0.997458\n",
            "Train Epoch: 1 [54400/60000] Loss: 0.911657\n",
            "Train Epoch: 1 [57600/60000] Loss: 0.438367\n",
            "Test set: Average loss: 0.0023, Accuracy: 9770/10000 (97.70%)\n",
            "Train Epoch: 2 [0/60000] Loss: 0.429555\n",
            "Train Epoch: 2 [3200/60000] Loss: 0.610172\n",
            "Train Epoch: 2 [6400/60000] Loss: 0.706368\n",
            "Train Epoch: 2 [9600/60000] Loss: 0.808559\n",
            "Train Epoch: 2 [12800/60000] Loss: 0.440123\n",
            "Train Epoch: 2 [16000/60000] Loss: 0.551467\n",
            "Train Epoch: 2 [19200/60000] Loss: 1.878051\n",
            "Train Epoch: 2 [22400/60000] Loss: 0.669904\n",
            "Train Epoch: 2 [25600/60000] Loss: 0.609901\n",
            "Train Epoch: 2 [28800/60000] Loss: 0.870068\n",
            "Train Epoch: 2 [32000/60000] Loss: 1.240772\n",
            "Train Epoch: 2 [35200/60000] Loss: 1.188241\n",
            "Train Epoch: 2 [38400/60000] Loss: 0.635780\n",
            "Train Epoch: 2 [41600/60000] Loss: 1.309238\n",
            "Train Epoch: 2 [44800/60000] Loss: 0.635165\n",
            "Train Epoch: 2 [48000/60000] Loss: 0.575442\n",
            "Train Epoch: 2 [51200/60000] Loss: 0.309283\n",
            "Train Epoch: 2 [54400/60000] Loss: 0.557401\n",
            "Train Epoch: 2 [57600/60000] Loss: 0.727528\n",
            "Test set: Average loss: 0.0015, Accuracy: 9865/10000 (98.65%)\n",
            "Train Epoch: 3 [0/60000] Loss: 0.369426\n",
            "Train Epoch: 3 [3200/60000] Loss: 0.635415\n",
            "Train Epoch: 3 [6400/60000] Loss: 0.241134\n",
            "Train Epoch: 3 [9600/60000] Loss: 0.361607\n",
            "Train Epoch: 3 [12800/60000] Loss: 0.959127\n",
            "Train Epoch: 3 [16000/60000] Loss: 0.746752\n",
            "Train Epoch: 3 [19200/60000] Loss: 0.447161\n",
            "Train Epoch: 3 [22400/60000] Loss: 0.658701\n",
            "Train Epoch: 3 [25600/60000] Loss: 0.442965\n",
            "Train Epoch: 3 [28800/60000] Loss: 1.091373\n",
            "Train Epoch: 3 [32000/60000] Loss: 0.742720\n",
            "Train Epoch: 3 [35200/60000] Loss: 0.261693\n",
            "Train Epoch: 3 [38400/60000] Loss: 0.406398\n",
            "Train Epoch: 3 [41600/60000] Loss: 0.769291\n",
            "Train Epoch: 3 [44800/60000] Loss: 0.194060\n",
            "Train Epoch: 3 [48000/60000] Loss: 0.376972\n",
            "Train Epoch: 3 [51200/60000] Loss: 1.573326\n",
            "Train Epoch: 3 [54400/60000] Loss: 0.956296\n",
            "Train Epoch: 3 [57600/60000] Loss: 0.593608\n",
            "Test set: Average loss: 0.0014, Accuracy: 9863/10000 (98.63%)\n",
            "Train Epoch: 4 [0/60000] Loss: 0.489946\n",
            "Train Epoch: 4 [3200/60000] Loss: 0.630203\n",
            "Train Epoch: 4 [6400/60000] Loss: 0.437355\n",
            "Train Epoch: 4 [9600/60000] Loss: 0.405657\n",
            "Train Epoch: 4 [12800/60000] Loss: 0.585403\n",
            "Train Epoch: 4 [16000/60000] Loss: 0.395517\n",
            "Train Epoch: 4 [19200/60000] Loss: 0.234922\n",
            "Train Epoch: 4 [22400/60000] Loss: 0.291866\n",
            "Train Epoch: 4 [25600/60000] Loss: 0.305311\n",
            "Train Epoch: 4 [28800/60000] Loss: 1.185412\n",
            "Train Epoch: 4 [32000/60000] Loss: 0.925524\n",
            "Train Epoch: 4 [35200/60000] Loss: 0.578281\n",
            "Train Epoch: 4 [38400/60000] Loss: 1.158376\n",
            "Train Epoch: 4 [41600/60000] Loss: 0.183669\n",
            "Train Epoch: 4 [44800/60000] Loss: 0.293500\n",
            "Train Epoch: 4 [48000/60000] Loss: 0.415842\n",
            "Train Epoch: 4 [51200/60000] Loss: 0.587947\n",
            "Train Epoch: 4 [54400/60000] Loss: 0.275841\n",
            "Train Epoch: 4 [57600/60000] Loss: 0.241122\n",
            "Test set: Average loss: 0.0011, Accuracy: 9884/10000 (98.84%)\n",
            "Train Epoch: 5 [0/60000] Loss: 0.538174\n",
            "Train Epoch: 5 [3200/60000] Loss: 0.746848\n",
            "Train Epoch: 5 [6400/60000] Loss: 0.365892\n",
            "Train Epoch: 5 [9600/60000] Loss: 0.299058\n",
            "Train Epoch: 5 [12800/60000] Loss: 0.420431\n",
            "Train Epoch: 5 [16000/60000] Loss: 0.863034\n",
            "Train Epoch: 5 [19200/60000] Loss: 0.277635\n",
            "Train Epoch: 5 [22400/60000] Loss: 0.256609\n",
            "Train Epoch: 5 [25600/60000] Loss: 0.480401\n",
            "Train Epoch: 5 [28800/60000] Loss: 0.410020\n",
            "Train Epoch: 5 [32000/60000] Loss: 0.308212\n",
            "Train Epoch: 5 [35200/60000] Loss: 0.421564\n",
            "Train Epoch: 5 [38400/60000] Loss: 0.569435\n",
            "Train Epoch: 5 [41600/60000] Loss: 0.722506\n",
            "Train Epoch: 5 [44800/60000] Loss: 0.216613\n",
            "Train Epoch: 5 [48000/60000] Loss: 0.745220\n",
            "Train Epoch: 5 [51200/60000] Loss: 0.286491\n",
            "Train Epoch: 5 [54400/60000] Loss: 0.938909\n",
            "Train Epoch: 5 [57600/60000] Loss: 1.334762\n",
            "Test set: Average loss: 0.0011, Accuracy: 9887/10000 (98.87%)\n"
          ]
        }
      ]
    },
    {
      "cell_type": "code",
      "source": [
        "import numpy as np"
      ],
      "metadata": {
        "id": "Zbl_uQIWsAgH"
      },
      "execution_count": 20,
      "outputs": []
    },
    {
      "cell_type": "code",
      "source": [
        "def visualize_model(model, test_loader, num_images=6):\n",
        "    \"\"\"\n",
        "    Visualizes the predictions of the trained model on a few validation images.\n",
        "\n",
        "    Parameters:\n",
        "        model (torch.nn.Module): The trained model to be visualized.\n",
        "        test_loader (DataLoader): DataLoader for the test dataset, providing images and labels.\n",
        "        num_images (int): The number of images to visualize. Default is 6.\n",
        "\n",
        "    Process:\n",
        "        - Sets the model to evaluation mode to disable gradient updates.\n",
        "        - Iterates over batches of the test data and retrieves model predictions.\n",
        "        - For each image, displays it alongside the predicted class.\n",
        "        - Unnormalizes the images for proper visualization.\n",
        "        - Stops visualizing once the specified number of images has been displayed.\n",
        "\n",
        "    Note:\n",
        "        The images are displayed in grayscale and the normalization parameters used\n",
        "        should match those used during training. Adjust these values if different\n",
        "        normalization techniques were applied.\n",
        "    \"\"\"\n",
        "    # Save the model's current training state to restore later\n",
        "    was_training = model.training\n",
        "    model.eval()  # Set model to evaluation mode (disables gradient updates)\n",
        "\n",
        "    images_so_far = 0\n",
        "    fig = plt.figure()  # Create a new figure for plotting images\n",
        "\n",
        "    with torch.no_grad():  # No need to compute gradients during visualization\n",
        "        # Iterate over batches of test data\n",
        "        for inputs, labels in test_loader:\n",
        "            inputs = inputs.to(device)  # Move inputs to the device (GPU or CPU)\n",
        "            labels = labels.to(device)  # Move labels to the device\n",
        "\n",
        "            outputs = model(inputs)  # Get the model's predictions\n",
        "            _, preds = torch.max(outputs, 1)  # Get the predicted class with the highest score\n",
        "\n",
        "            # Loop over the images in the batch\n",
        "            for j in range(inputs.size()[0]):\n",
        "                images_so_far += 1\n",
        "                ax = plt.subplot(num_images // 2, 2, images_so_far)  # Create a subplot for each image\n",
        "                ax.axis('off')  # Hide the axis\n",
        "                ax.set_title(f'Predicted: {preds[j].item()}')  # Set the title to the predicted class\n",
        "                img = inputs.cpu().data[j].numpy().transpose((1, 2, 0))  # Convert tensor to numpy array and adjust dimensions\n",
        "\n",
        "                # Unnormalize the image before displaying\n",
        "                img = (img * 0.3081 + 0.1307)  # Reverse the normalization\n",
        "                img = np.clip(img, 0, 1)  # Ensure values are between 0 and 1\n",
        "\n",
        "                plt.imshow(img, cmap='gray')  # Display grayscale images\n",
        "\n",
        "                # Stop once the required number of images are displayed\n",
        "                if images_so_far == num_images:\n",
        "                    model.train(mode=was_training)  # Restore the model's training state\n",
        "                    return\n",
        "\n",
        "        # Restore the model's training state if not enough images were processed\n",
        "        model.train(mode=was_training)\n",
        "\n",
        "# Visualize predictions using the test_loader\n",
        "visualize_model(model, test_loader)\n"
      ],
      "metadata": {
        "colab": {
          "base_uri": "https://localhost:8080/",
          "height": 428
        },
        "id": "YeYBrhPgjSfP",
        "outputId": "cf7d1d42-56c2-4f40-b8cd-864ef589a571"
      },
      "execution_count": 22,
      "outputs": [
        {
          "output_type": "display_data",
          "data": {
            "text/plain": [
              "<Figure size 640x480 with 6 Axes>"
            ],
            "image/png": "[encoded data removed]"
          },
          "metadata": {}
        }
      ]
    },
    {
      "cell_type": "code",
      "source": [
        "import numpy as np\n",
        "import seaborn as sns\n",
        "import matplotlib.pyplot as plt\n",
        "from sklearn.metrics import confusion_matrix\n",
        "\n",
        "def plot_confusion_matrix(true_labels, pred_labels, classes):\n",
        "    \"\"\"\n",
        "    Plots a confusion matrix using Seaborn's heatmap.\n",
        "\n",
        "    Args:\n",
        "        true_labels (numpy array): True labels from the dataset. Should be a 1D array-like structure.\n",
        "        pred_labels (numpy array): Predicted labels from the model. Should be a 1D array-like structure.\n",
        "        classes (list): List of class names corresponding to the labels in the dataset.\n",
        "\n",
        "    Process:\n",
        "        - Computes the confusion matrix using the true and predicted labels.\n",
        "        - Visualizes the confusion matrix as a heatmap, where each cell shows the count of predictions.\n",
        "        - Annotates each cell with the count of predictions and formats the heatmap with appropriate labels.\n",
        "\n",
        "    Note:\n",
        "        - Ensure that the lengths of `true_labels` and `pred_labels` match.\n",
        "        - The `classes` list should contain labels corresponding to the indices in the confusion matrix.\n",
        "    \"\"\"\n",
        "    cm = confusion_matrix(true_labels, pred_labels)  # Compute confusion matrix\n",
        "    plt.figure(figsize=(10, 7))  # Set figure size for the heatmap\n",
        "    sns.heatmap(cm, annot=True, fmt='d', cmap='Blues', xticklabels=classes, yticklabels=classes)  # Create heatmap\n",
        "    plt.ylabel('True Label')  # Label for y-axis\n",
        "    plt.xlabel('Predicted Label')  # Label for x-axis\n",
        "    plt.title('Confusion Matrix')  # Add a title\n",
        "    plt.show()  # Display the heatmap\n",
        "\n",
        "# Collect true labels and predicted labels\n",
        "true_labels = []  # Initialize list to store true labels\n",
        "pred_labels = []  # Initialize list to store predicted labels\n",
        "\n",
        "# Evaluate the model on the test set\n",
        "model.eval()  # Set the model to evaluation mode\n",
        "with torch.no_grad():  # Disable gradient calculation for inference\n",
        "    for data, target in test_loader:\n",
        "        data, target = data.to(device), target.to(device)  # Move data and targets to the device\n",
        "        output = model(data)  # Get model predictions\n",
        "        preds = output.argmax(dim=1)  # Get the predicted classes\n",
        "        true_labels.extend(target.cpu().numpy())  # Append true labels\n",
        "        pred_labels.extend(preds.cpu().numpy())  # Append predicted labels\n",
        "\n",
        "# Convert lists to numpy arrays for confusion matrix\n",
        "true_labels = np.array(true_labels)  # Convert true labels list to numpy array\n",
        "pred_labels = np.array(pred_labels)  # Convert predicted labels list to numpy array\n",
        "\n",
        "# Plot confusion matrix\n",
        "plot_confusion_matrix(true_labels, pred_labels, classes=[str(i) for i in range(10)])  # Plot the confusion matrix\n"
      ],
      "metadata": {
        "colab": {
          "base_uri": "https://localhost:8080/",
          "height": 641
        },
        "id": "c8ImbWuxxp5r",
        "outputId": "6fab6eeb-4492-4c81-8699-0ee3f5f86e1e"
      },
      "execution_count": 30,
      "outputs": [
        {
          "output_type": "display_data",
          "data": {
            "text/plain": [
              "<Figure size 1000x700 with 2 Axes>"
            ],
            "image/png": "[encoded data removed]"
          },
          "metadata": {}
        }
      ]
    },
    {
      "cell_type": "code",
      "source": [
        "from sklearn.metrics import accuracy_score, precision_score, recall_score, f1_score\n",
        "import numpy as np"
      ],
      "metadata": {
        "id": "L2T6B7mTe2Nm"
      },
      "execution_count": 23,
      "outputs": []
    },
    {
      "cell_type": "code",
      "source": [
        "def set_seed(seed):\n",
        "    \"\"\"\n",
        "    Sets the seed for reproducibility in random operations across different libraries.\n",
        "\n",
        "    Args:\n",
        "        seed (int): The seed value for random operations. This ensures that results can be reproduced\n",
        "                    by initializing the random number generators to the same state.\n",
        "\n",
        "    Process:\n",
        "        - Sets the seed for PyTorch's CPU random number generator.\n",
        "        - Sets the seed for all CUDA devices if available, ensuring that operations on GPU are also reproducible.\n",
        "        - Sets the seed for NumPy's random number generator, aligning it with PyTorch's seed.\n",
        "    \"\"\"\n",
        "    torch.manual_seed(seed)  # Set seed for CPU\n",
        "    if torch.cuda.is_available():\n",
        "        torch.cuda.manual_seed_all(seed)  # Set seed for all GPU devices\n",
        "    np.random.seed(seed)"
      ],
      "metadata": {
        "id": "p6OpkWaSe5nL"
      },
      "execution_count": 35,
      "outputs": []
    },
    {
      "cell_type": "code",
      "source": [
        "def calculate_metrics(output, target):\n",
        "    \"\"\"\n",
        "    Calculates performance metrics such as accuracy, precision, recall, and F1 score.\n",
        "\n",
        "    Args:\n",
        "        output (torch.Tensor): The model's predicted output logits. Should be the raw outputs from\n",
        "                               the model before applying any activation functions.\n",
        "        target (torch.Tensor): The true target labels. This tensor should contain the ground truth\n",
        "                               class indices for each sample.\n",
        "\n",
        "    Returns:\n",
        "        dict: A dictionary containing the calculated metrics, including:\n",
        "            - 'accuracy': Overall accuracy of the model.\n",
        "            - 'precision': Precision score of the model.\n",
        "            - 'recall': Recall score of the model.\n",
        "            - 'f1_score': F1 score of the model.\n",
        "\n",
        "    Process:\n",
        "        - Converts the predicted logits to class indices by taking the argmax along the class dimension.\n",
        "        - Computes accuracy, precision, recall, and F1 score using the scikit-learn library.\n",
        "        - Returns the calculated metrics in a dictionary format.\n",
        "    \"\"\"\n",
        "    pred = output.argmax(dim=1, keepdim=True).cpu().numpy()  # Get predicted class indices\n",
        "    true = target.cpu().numpy()  # Get true class indices\n",
        "\n",
        "    acc = accuracy_score(true, pred)  # Calculate accuracy\n",
        "    precision = precision_score(true, pred, average='weighted', zero_division=0)  # Calculate precision\n",
        "    recall = recall_score(true, pred, average='weighted', zero_division=0)  # Calculate recall\n",
        "    f1 = f1_score(true, pred, average='weighted', zero_division=0)  # Calculate F1 score\n",
        "\n",
        "    return {\n",
        "        'accuracy': acc,\n",
        "        'precision': precision,\n",
        "        'recall': recall,\n",
        "        'f1_score': f1\n",
        "    }\n"
      ],
      "metadata": {
        "id": "Iy7m0R9ae7Sc"
      },
      "execution_count": 36,
      "outputs": []
    },
    {
      "cell_type": "code",
      "source": [
        "def evaluate_performance_across_seeds(seeds, model, train_loader, test_loader):\n",
        "    \"\"\"\n",
        "    Evaluates model performance across different seeds and computes variance in metrics.\n",
        "\n",
        "    Args:\n",
        "        seeds (list of int): List of seeds for different training runs.\n",
        "                             Each seed will be used to initialize the random state for reproducibility.\n",
        "        model (torch.nn.Module): The neural network model to be trained and evaluated.\n",
        "        train_loader (DataLoader): DataLoader for the training dataset, providing batches for training.\n",
        "        test_loader (DataLoader): DataLoader for the test dataset, providing batches for evaluation.\n",
        "\n",
        "    Returns:\n",
        "        tuple: A tuple containing:\n",
        "            - dict: Mean metrics including accuracy, precision, recall, and F1 scores across seeds.\n",
        "            - dict: Variance metrics including accuracy, precision, recall, and F1 scores across seeds.\n",
        "\n",
        "    Process:\n",
        "        - Iterates through each seed to train and evaluate the model.\n",
        "        - For each seed, sets the random seed for reproducibility.\n",
        "        - Reinitializes the model and optimizer for each training run.\n",
        "        - Trains the model for a specified number of epochs and evaluates it on the test dataset.\n",
        "        - Collects performance metrics after each evaluation.\n",
        "        - Computes the mean and variance of the collected metrics across all seeds.\n",
        "    \"\"\"\n",
        "    performance_metrics = []\n",
        "\n",
        "    for seed in seeds:\n",
        "        print(f\"Training with seed: {seed}\")\n",
        "        set_seed(seed)\n",
        "\n",
        "        # Reinitialize model and optimizer for each seed\n",
        "        model = resnet50(pretrained=True, num_classes=10)\n",
        "        model.fc = nn.Linear(model.fc.in_features, 10)\n",
        "        model = model.to(device)\n",
        "        optimizer = optim.AdamW(model.parameters(), lr=5e-4, weight_decay=1e-2)\n",
        "        scheduler = optim.lr_scheduler.CosineAnnealingLR(optimizer, T_max=10)\n",
        "\n",
        "        # Train and test the model\n",
        "        for epoch in range(1,2):  # Shorter training for seed experiments\n",
        "            train(model, device, train_loader, optimizer, epoch)\n",
        "            test(model, device, test_loader)\n",
        "\n",
        "        # Collect metrics on test dataset\n",
        "        model.eval()\n",
        "        all_preds = []\n",
        "        all_labels = []\n",
        "        with torch.no_grad():\n",
        "            for data, target in test_loader:\n",
        "                data, target = data.to(device), target.to(device)\n",
        "                output = model(data)\n",
        "                metrics = calculate_metrics(output, target)\n",
        "                performance_metrics.append(metrics)\n",
        "\n",
        "    # Calculate mean and variance across seeds\n",
        "    mean_metrics = {\n",
        "        'accuracy': np.mean([m['accuracy'] for m in performance_metrics]),\n",
        "        'precision': np.mean([m['precision'] for m in performance_metrics]),\n",
        "        'recall': np.mean([m['recall'] for m in performance_metrics]),\n",
        "        'f1_score': np.mean([m['f1_score'] for m in performance_metrics]),\n",
        "    }\n",
        "\n",
        "    variance_metrics = {\n",
        "        'accuracy': np.var([m['accuracy'] for m in performance_metrics]),\n",
        "        'precision': np.var([m['precision'] for m in performance_metrics]),\n",
        "        'recall': np.var([m['recall'] for m in performance_metrics]),\n",
        "        'f1_score': np.var([m['f1_score'] for m in performance_metrics]),\n",
        "    }\n",
        "\n",
        "    print(f\"Mean Metrics: {mean_metrics}\")\n",
        "    print(f\"Variance Metrics: {variance_metrics}\")\n",
        "\n",
        "    return mean_metrics, variance_metrics\n",
        "\n",
        "# Experiment across multiple seeds\n",
        "seeds = [42, 123, 456, 789, 101112]\n",
        "mean_metrics, variance_metrics = evaluate_performance_across_seeds(seeds, model, train_loader, test_loader)\n"
      ],
      "metadata": {
        "colab": {
          "base_uri": "https://localhost:8080/"
        },
        "id": "vUoyjFhje8yC",
        "outputId": "b2db8748-bb8f-47ad-8c2b-a429d3f04ea3"
      },
      "execution_count": 38,
      "outputs": [
        {
          "output_type": "stream",
          "name": "stdout",
          "text": [
            "Training with seed: 42\n",
            "Train Epoch: 1 [0/60000] Loss: 2.311912\n",
            "Train Epoch: 1 [3200/60000] Loss: 1.728106\n",
            "Train Epoch: 1 [6400/60000] Loss: 1.267432\n",
            "Train Epoch: 1 [9600/60000] Loss: 0.866897\n",
            "Train Epoch: 1 [12800/60000] Loss: 0.650218\n",
            "Train Epoch: 1 [16000/60000] Loss: 1.597111\n",
            "Train Epoch: 1 [19200/60000] Loss: 0.751273\n",
            "Train Epoch: 1 [22400/60000] Loss: 1.651365\n",
            "Train Epoch: 1 [25600/60000] Loss: 0.881306\n",
            "Train Epoch: 1 [28800/60000] Loss: 0.701880\n",
            "Train Epoch: 1 [32000/60000] Loss: 1.129225\n",
            "Train Epoch: 1 [35200/60000] Loss: 0.801862\n",
            "Train Epoch: 1 [38400/60000] Loss: 0.579271\n",
            "Train Epoch: 1 [41600/60000] Loss: 0.776795\n",
            "Train Epoch: 1 [44800/60000] Loss: 1.649840\n",
            "Train Epoch: 1 [48000/60000] Loss: 0.233502\n",
            "Train Epoch: 1 [51200/60000] Loss: 0.236901\n",
            "Train Epoch: 1 [54400/60000] Loss: 0.474055\n",
            "Train Epoch: 1 [57600/60000] Loss: 0.654146\n",
            "Test set: Average loss: 0.0022, Accuracy: 9810/10000 (98.10%)\n",
            "Training with seed: 123\n",
            "Train Epoch: 1 [0/60000] Loss: 2.295527\n",
            "Train Epoch: 1 [3200/60000] Loss: 1.221773\n",
            "Train Epoch: 1 [6400/60000] Loss: 0.605556\n",
            "Train Epoch: 1 [9600/60000] Loss: 2.183462\n",
            "Train Epoch: 1 [12800/60000] Loss: 1.863827\n",
            "Train Epoch: 1 [16000/60000] Loss: 1.012712\n",
            "Train Epoch: 1 [19200/60000] Loss: 0.487025\n",
            "Train Epoch: 1 [22400/60000] Loss: 0.761382\n",
            "Train Epoch: 1 [25600/60000] Loss: 0.946450\n",
            "Train Epoch: 1 [28800/60000] Loss: 0.778099\n",
            "Train Epoch: 1 [32000/60000] Loss: 1.261644\n",
            "Train Epoch: 1 [35200/60000] Loss: 1.031218\n",
            "Train Epoch: 1 [38400/60000] Loss: 0.903545\n",
            "Train Epoch: 1 [41600/60000] Loss: 0.856707\n",
            "Train Epoch: 1 [44800/60000] Loss: 0.493348\n",
            "Train Epoch: 1 [48000/60000] Loss: 1.613707\n",
            "Train Epoch: 1 [51200/60000] Loss: 0.325183\n",
            "Train Epoch: 1 [54400/60000] Loss: 0.679579\n",
            "Train Epoch: 1 [57600/60000] Loss: 0.700384\n",
            "Test set: Average loss: 0.0019, Accuracy: 9836/10000 (98.36%)\n",
            "Training with seed: 456\n",
            "Train Epoch: 1 [0/60000] Loss: 2.294271\n",
            "Train Epoch: 1 [3200/60000] Loss: 1.338742\n",
            "Train Epoch: 1 [6400/60000] Loss: 1.423164\n",
            "Train Epoch: 1 [9600/60000] Loss: 2.116069\n",
            "Train Epoch: 1 [12800/60000] Loss: 1.127383\n",
            "Train Epoch: 1 [16000/60000] Loss: 1.133975\n",
            "Train Epoch: 1 [19200/60000] Loss: 1.150867\n",
            "Train Epoch: 1 [22400/60000] Loss: 0.712489\n",
            "Train Epoch: 1 [25600/60000] Loss: 1.002881\n",
            "Train Epoch: 1 [28800/60000] Loss: 0.776651\n",
            "Train Epoch: 1 [32000/60000] Loss: 1.299334\n",
            "Train Epoch: 1 [35200/60000] Loss: 0.574739\n",
            "Train Epoch: 1 [38400/60000] Loss: 0.894461\n",
            "Train Epoch: 1 [41600/60000] Loss: 0.478275\n",
            "Train Epoch: 1 [44800/60000] Loss: 0.870084\n",
            "Train Epoch: 1 [48000/60000] Loss: 1.125378\n",
            "Train Epoch: 1 [51200/60000] Loss: 0.626624\n",
            "Train Epoch: 1 [54400/60000] Loss: 1.082419\n",
            "Train Epoch: 1 [57600/60000] Loss: 1.273135\n",
            "Test set: Average loss: 0.0019, Accuracy: 9830/10000 (98.30%)\n",
            "Training with seed: 789\n",
            "Train Epoch: 1 [0/60000] Loss: 2.291922\n",
            "Train Epoch: 1 [3200/60000] Loss: 1.509341\n",
            "Train Epoch: 1 [6400/60000] Loss: 0.781349\n",
            "Train Epoch: 1 [9600/60000] Loss: 1.324136\n",
            "Train Epoch: 1 [12800/60000] Loss: 1.024137\n",
            "Train Epoch: 1 [16000/60000] Loss: 1.108839\n",
            "Train Epoch: 1 [19200/60000] Loss: 1.068986\n",
            "Train Epoch: 1 [22400/60000] Loss: 1.293057\n",
            "Train Epoch: 1 [25600/60000] Loss: 0.652923\n",
            "Train Epoch: 1 [28800/60000] Loss: 1.996425\n",
            "Train Epoch: 1 [32000/60000] Loss: 0.544849\n",
            "Train Epoch: 1 [35200/60000] Loss: 0.523234\n",
            "Train Epoch: 1 [38400/60000] Loss: 0.710410\n",
            "Train Epoch: 1 [41600/60000] Loss: 0.682199\n",
            "Train Epoch: 1 [44800/60000] Loss: 1.272836\n",
            "Train Epoch: 1 [48000/60000] Loss: 0.714692\n",
            "Train Epoch: 1 [51200/60000] Loss: 1.161149\n",
            "Train Epoch: 1 [54400/60000] Loss: 0.804229\n",
            "Train Epoch: 1 [57600/60000] Loss: 0.301938\n",
            "Test set: Average loss: 0.0020, Accuracy: 9796/10000 (97.96%)\n",
            "Training with seed: 101112\n",
            "Train Epoch: 1 [0/60000] Loss: 2.312902\n",
            "Train Epoch: 1 [3200/60000] Loss: 1.507787\n",
            "Train Epoch: 1 [6400/60000] Loss: 1.508016\n",
            "Train Epoch: 1 [9600/60000] Loss: 1.053902\n",
            "Train Epoch: 1 [12800/60000] Loss: 1.692450\n",
            "Train Epoch: 1 [16000/60000] Loss: 0.514784\n",
            "Train Epoch: 1 [19200/60000] Loss: 0.611323\n",
            "Train Epoch: 1 [22400/60000] Loss: 0.693842\n",
            "Train Epoch: 1 [25600/60000] Loss: 0.616608\n",
            "Train Epoch: 1 [28800/60000] Loss: 0.559601\n",
            "Train Epoch: 1 [32000/60000] Loss: 0.609912\n",
            "Train Epoch: 1 [35200/60000] Loss: 0.562175\n",
            "Train Epoch: 1 [38400/60000] Loss: 0.401102\n",
            "Train Epoch: 1 [41600/60000] Loss: 1.147866\n",
            "Train Epoch: 1 [44800/60000] Loss: 0.797312\n",
            "Train Epoch: 1 [48000/60000] Loss: 0.633483\n",
            "Train Epoch: 1 [51200/60000] Loss: 0.406598\n",
            "Train Epoch: 1 [54400/60000] Loss: 0.388287\n",
            "Train Epoch: 1 [57600/60000] Loss: 0.598092\n",
            "Test set: Average loss: 0.0021, Accuracy: 9788/10000 (97.88%)\n",
            "Mean Metrics: {'accuracy': 0.9812300319488818, 'precision': 0.986047538224555, 'recall': 0.9812300319488818, 'f1_score': 0.9810402056518533}\n",
            "Variance Metrics: {'accuracy': 0.0006772909351427492, 'precision': 0.00043356395004724794, 'recall': 0.0006772909351427492, 'f1_score': 0.0007062517640281091}\n"
          ]
        }
      ]
    },
    {
      "cell_type": "code",
      "source": [
        "import matplotlib.pyplot as plt\n",
        "\n",
        "def plot_metrics(metrics, title):\n",
        "    \"\"\"\n",
        "    Plots the accuracy, precision, recall, and F1 score for different seeds.\n",
        "\n",
        "    Args:\n",
        "        metrics (dict): A dictionary containing the following keys:\n",
        "            - 'accuracy': List of accuracy scores for each seed.\n",
        "            - 'precision': List of precision scores for each seed.\n",
        "            - 'recall': List of recall scores for each seed.\n",
        "            - 'f1_score': List of F1 scores for each seed.\n",
        "        title (str): Title for the plot, describing the contents.\n",
        "\n",
        "    Process:\n",
        "        - Initializes a new figure for plotting.\n",
        "        - Plots each metric as a line graph with markers for clarity.\n",
        "        - Sets labels for the axes and the title of the plot.\n",
        "        - Displays the plot with a grid for better readability.\n",
        "    \"\"\"\n",
        "    plt.figure(figsize=(10, 5))\n",
        "\n",
        "    # Plotting the different metrics\n",
        "    plt.plot(metrics['accuracy'], label=\"Accuracy\", marker='o')\n",
        "    plt.plot(metrics['precision'], label=\"Precision\", marker='o')\n",
        "    plt.plot(metrics['recall'], label=\"Recall\", marker='o')\n",
        "    plt.plot(metrics['f1_score'], label=\"F1 Score\", marker='o')\n",
        "\n",
        "    plt.title(title)\n",
        "    plt.xlabel(\"Seed Index\")\n",
        "    plt.ylabel(\"Score\")\n",
        "    plt.legend()\n",
        "    plt.grid(True)\n",
        "    plt.show()\n",
        "\n",
        "# Extract metrics across different seeds for plotting\n",
        "metrics_to_plot = {\n",
        "    'accuracy': [mean_metrics['accuracy']] * len(seeds),  # Repeat the mean metric for each seed\n",
        "    'precision': [mean_metrics['precision']] * len(seeds),\n",
        "    'recall': [mean_metrics['recall']] * len(seeds),\n",
        "    'f1_score': [mean_metrics['f1_score']] * len(seeds)\n",
        "}\n",
        "\n",
        "plot_metrics(metrics_to_plot, \"Performance Metrics Across Seeds\")\n"
      ],
      "metadata": {
        "colab": {
          "base_uri": "https://localhost:8080/",
          "height": 487
        },
        "id": "7p3PbT_HfAOZ",
        "outputId": "455256bf-16bb-48e0-ef22-7d0747f52479"
      },
      "execution_count": 39,
      "outputs": [
        {
          "output_type": "display_data",
          "data": {
            "text/plain": [
              "<Figure size 1000x500 with 1 Axes>"
            ],
            "image/png": "[encoded data removed]"
          },
          "metadata": {}
        }
      ]
    },
    {
      "cell_type": "code",
      "source": [
        "!pip freeze > requirements.txt"
      ],
      "metadata": {
        "id": "WO5i3c1rwbiT"
      },
      "execution_count": 40,
      "outputs": []
    },
    {
      "cell_type": "code",
      "source": [
        "from google.colab import files\n",
        "files.download('requirements.txt')"
      ],
      "metadata": {
        "colab": {
          "base_uri": "https://localhost:8080/",
          "height": 17
        },
        "id": "Rlyrr-Tswbf0",
        "outputId": "865256ec-ebd0-46f3-a6ee-bfadda6cdf05"
      },
      "execution_count": 41,
      "outputs": [
        {
          "output_type": "display_data",
          "data": {
            "text/plain": [
              "<IPython.core.display.Javascript object>"
            ],
            "application/javascript": [
              "\n",
              "    async function download(id, filename, size) {\n",
              "      if (!google.colab.kernel.accessAllowed) {\n",
              "        return;\n",
              "      }\n",
              "      const div = document.createElement('div');\n",
              "      const label = document.createElement('label');\n",
              "      label.textContent = `Downloading \"${filename}\": `;\n",
              "      div.appendChild(label);\n",
              "      const progress = document.createElement('progress');\n",
              "      progress.max = size;\n",
              "      div.appendChild(progress);\n",
              "      document.body.appendChild(div);\n",
              "\n",
              "      const buffers = [];\n",
              "      let downloaded = 0;\n",
              "\n",
              "      const channel = await google.colab.kernel.comms.open(id);\n",
              "      // Send a message to notify the kernel that we're ready.\n",
              "      channel.send({})\n",
              "\n",
              "      for await (const message of channel.messages) {\n",
              "        // Send a message to notify the kernel that we're ready.\n",
              "        channel.send({})\n",
              "        if (message.buffers) {\n",
              "          for (const buffer of message.buffers) {\n",
              "            buffers.push(buffer);\n",
              "            downloaded += buffer.byteLength;\n",
              "            progress.value = downloaded;\n",
              "          }\n",
              "        }\n",
              "      }\n",
              "      const blob = new Blob(buffers, {type: 'application/binary'});\n",
              "      const a = document.createElement('a');\n",
              "      a.href = window.URL.createObjectURL(blob);\n",
              "      a.download = filename;\n",
              "      div.appendChild(a);\n",
              "      a.click();\n",
              "      div.remove();\n",
              "    }\n",
              "  "
            ]
          },
          "metadata": {}
        },
        {
          "output_type": "display_data",
          "data": {
            "text/plain": [
              "<IPython.core.display.Javascript object>"
            ],
            "application/javascript": [
              "download(\"download_bdd35eb6-d9c2-498a-9387-77f61ad5a069\", \"requirements.txt\", 10472)"
            ]
          },
          "metadata": {}
        }
      ]
    },
    {
      "cell_type": "code",
      "source": [],
      "metadata": {
        "id": "lVdn1ukRwbFp"
      },
      "execution_count": null,
      "outputs": []
    }
  ]
}